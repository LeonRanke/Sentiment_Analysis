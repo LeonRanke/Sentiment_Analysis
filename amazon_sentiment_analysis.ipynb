{
 "cells": [
  {
   "cell_type": "markdown",
   "id": "0024d519-d810-4fd1-95eb-2712e9095427",
   "metadata": {
    "jp-MarkdownHeadingCollapsed": true,
    "tags": []
   },
   "source": [
    "# 1. Get Reviews from Amazon"
   ]
  },
  {
   "cell_type": "markdown",
   "id": "9ff9e344-b663-4ebe-9300-29cf9affc0e4",
   "metadata": {
    "jp-MarkdownHeadingCollapsed": true,
    "tags": []
   },
   "source": [
    "## 1.1 Set up Beautiful Soup and Requests"
   ]
  },
  {
   "cell_type": "code",
   "execution_count": 2,
   "id": "5b926e3c-f577-4c3e-a7b9-74a99c22cff6",
   "metadata": {},
   "outputs": [],
   "source": [
    "import requests\n",
    "from bs4 import BeautifulSoup\n",
    "import re"
   ]
  },
  {
   "cell_type": "code",
   "execution_count": 6,
   "id": "bfb0eb49-cba4-4f16-86ba-51f58ebdb3c8",
   "metadata": {
    "tags": []
   },
   "outputs": [],
   "source": [
    "# Set up hedder to Scrape Amazon\n",
    "HEADERS = ({'User-Agent':\n",
    "            'Mozilla/5.0 (Windows NT 10.0; Win64; x64) \\\n",
    "            AppleWebKit/537.36 (KHTML, like Gecko) \\\n",
    "            Chrome/90.0.4430.212 Safari/537.36',\n",
    "            'Accept-Language': 'en-US, en;q=0.5'})"
   ]
  },
  {
   "cell_type": "code",
   "execution_count": 7,
   "id": "55ee8cca-9c1d-44df-af9f-b60fc4e22bcf",
   "metadata": {},
   "outputs": [],
   "source": [
    "url = r'https://www.amazon.de/M%C3%9CHLE-10er-Rasierklingen-traditionelle-Sicherheitsrasierer/product-reviews/B00TQLHOTO/ref=cm_cr_dp_d_show_all_btm?ie=UTF8&reviewerType=all_reviews'"
   ]
  },
  {
   "cell_type": "code",
   "execution_count": 8,
   "id": "fb373167-0203-401f-a742-59e946e874b7",
   "metadata": {},
   "outputs": [],
   "source": [
    "# Get raw html data with Requests\n",
    "html = requests.get(url, headers=HEADERS)"
   ]
  },
  {
   "cell_type": "code",
   "execution_count": 9,
   "id": "4b7f655f-9765-4395-8a2c-b647a65b57f6",
   "metadata": {},
   "outputs": [
    {
     "data": {
      "text/plain": [
       "200"
      ]
     },
     "execution_count": 9,
     "metadata": {},
     "output_type": "execute_result"
    }
   ],
   "source": [
    "# Check html Status code (200 = ok)\n",
    "html.status_code"
   ]
  },
  {
   "cell_type": "markdown",
   "id": "c5b5b5ca-dd0c-4d6e-8403-f260b4b14f3e",
   "metadata": {
    "jp-MarkdownHeadingCollapsed": true,
    "tags": []
   },
   "source": [
    "## 1.2 Convert Text to Soup"
   ]
  },
  {
   "cell_type": "code",
   "execution_count": 10,
   "id": "0c983fcd-ac6d-4d36-8582-fc69ac9c540b",
   "metadata": {},
   "outputs": [],
   "source": [
    "# Create Soup object from html Data\n",
    "soup = BeautifulSoup(html.text, 'html.parser')"
   ]
  },
  {
   "cell_type": "code",
   "execution_count": 11,
   "id": "6cb79a4f-9413-43c6-aabd-8c7f7aad03b8",
   "metadata": {
    "scrolled": true,
    "tags": []
   },
   "outputs": [
    {
     "name": "stdout",
     "output_type": "stream",
     "text": [
      "\n",
      "Top Produkt mit einer sehr gute Qualität\n",
      "\n"
     ]
    }
   ],
   "source": [
    "# Find user reviews in the data\n",
    "results = soup.find_all('span', {'data-hook': 'review-body'})\n",
    "print(results[0].text)"
   ]
  },
  {
   "cell_type": "code",
   "execution_count": 12,
   "id": "cf410f69-1a37-424d-bb83-f8f1ec038961",
   "metadata": {},
   "outputs": [
    {
     "data": {
      "text/plain": [
       "10"
      ]
     },
     "execution_count": 12,
     "metadata": {},
     "output_type": "execute_result"
    }
   ],
   "source": [
    "len(results)"
   ]
  },
  {
   "cell_type": "markdown",
   "id": "dcf539e4-21f4-4165-b416-449fe7779ed1",
   "metadata": {
    "jp-MarkdownHeadingCollapsed": true,
    "tags": []
   },
   "source": [
    "## 1.3 Scraping Multible Pages"
   ]
  },
  {
   "cell_type": "code",
   "execution_count": 14,
   "id": "9f9bba0c-7eb4-4496-9225-589d853d5ba0",
   "metadata": {},
   "outputs": [],
   "source": [
    "# Construct list of links to scrape multiple pages\n",
    "links = []\n",
    "for x in range(14):\n",
    "    links.append(f'https://www.amazon.de/M%C3%9CHLE-10er-Rasierklingen-traditionelle-Sicherheitsrasierer/product-reviews/B00TQLHOTO/ref=cm_cr_getr_d_paging_btm_prev_1?ie=UTF8&reviewerType=all_reviews&pageNumber={x}')"
   ]
  },
  {
   "cell_type": "code",
   "execution_count": 15,
   "id": "92d2b501-a911-4561-ad01-fe7cee043841",
   "metadata": {},
   "outputs": [],
   "source": [
    "# Scrape all links in the constructed list\n",
    "reviews = []\n",
    "for link in links:\n",
    "    html = requests.get(link, headers=HEADERS)\n",
    "    if html.status_code == 200:\n",
    "        # HTML response was sucssesfull\n",
    "        soup = BeautifulSoup(html.text, 'html.parser')\n",
    "        results = soup.find_all('span', {'data-hook': 'review-body'})\n",
    "        for review in results:\n",
    "            reviews.append(review.text.replace('\\n', ''))\n",
    "    else:\n",
    "        # HTML response was unsuccsessfull\n",
    "        print('[BAD HTML RESPONSE] Response Code =', html.status_code)            "
   ]
  },
  {
   "cell_type": "code",
   "execution_count": 16,
   "id": "1956aa0c-1414-4058-a2d7-07411e29346b",
   "metadata": {},
   "outputs": [
    {
     "data": {
      "text/plain": [
       "139"
      ]
     },
     "execution_count": 16,
     "metadata": {},
     "output_type": "execute_result"
    }
   ],
   "source": [
    "len(reviews)"
   ]
  },
  {
   "cell_type": "markdown",
   "id": "e19770da-2104-4d58-9c9d-9849d0a2c440",
   "metadata": {
    "tags": []
   },
   "source": [
    "# 2. Translate Reviews"
   ]
  },
  {
   "cell_type": "markdown",
   "id": "e3da78a8-1450-46a9-ae20-aa0746de60c9",
   "metadata": {
    "jp-MarkdownHeadingCollapsed": true,
    "tags": []
   },
   "source": [
    "## 2.1 Determine Language of Reviews"
   ]
  },
  {
   "cell_type": "code",
   "execution_count": 171,
   "id": "ec2ad575-7665-4242-9cc6-39192181fb7f",
   "metadata": {
    "collapsed": true,
    "jupyter": {
     "outputs_hidden": true
    },
    "tags": []
   },
   "outputs": [
    {
     "name": "stdout",
     "output_type": "stream",
     "text": [
      "Requirement already satisfied: detectlanguage in c:\\users\\leonr\\desktop\\git\\coursesfromnick\\sentiment_analysis\\sentiment_analysis\\lib\\site-packages (1.5.0)\n",
      "Collecting pandas\n",
      "  Using cached pandas-1.5.3-cp310-cp310-win_amd64.whl (10.4 MB)\n",
      "Requirement already satisfied: requests>=2.4.2 in c:\\users\\leonr\\desktop\\git\\coursesfromnick\\sentiment_analysis\\sentiment_analysis\\lib\\site-packages (from detectlanguage) (2.28.2)\n",
      "Requirement already satisfied: python-dateutil>=2.8.1 in c:\\users\\leonr\\desktop\\git\\coursesfromnick\\sentiment_analysis\\sentiment_analysis\\lib\\site-packages (from pandas) (2.8.2)\n",
      "Collecting numpy>=1.21.0\n",
      "  Using cached numpy-1.24.1-cp310-cp310-win_amd64.whl (14.8 MB)\n",
      "Collecting pytz>=2020.1\n",
      "  Using cached pytz-2022.7.1-py2.py3-none-any.whl (499 kB)\n",
      "Requirement already satisfied: six>=1.5 in c:\\users\\leonr\\desktop\\git\\coursesfromnick\\sentiment_analysis\\sentiment_analysis\\lib\\site-packages (from python-dateutil>=2.8.1->pandas) (1.16.0)\n",
      "Requirement already satisfied: urllib3<1.27,>=1.21.1 in c:\\users\\leonr\\desktop\\git\\coursesfromnick\\sentiment_analysis\\sentiment_analysis\\lib\\site-packages (from requests>=2.4.2->detectlanguage) (1.26.14)\n",
      "Requirement already satisfied: idna<4,>=2.5 in c:\\users\\leonr\\desktop\\git\\coursesfromnick\\sentiment_analysis\\sentiment_analysis\\lib\\site-packages (from requests>=2.4.2->detectlanguage) (3.4)\n",
      "Requirement already satisfied: charset-normalizer<4,>=2 in c:\\users\\leonr\\desktop\\git\\coursesfromnick\\sentiment_analysis\\sentiment_analysis\\lib\\site-packages (from requests>=2.4.2->detectlanguage) (3.0.1)\n",
      "Requirement already satisfied: certifi>=2017.4.17 in c:\\users\\leonr\\desktop\\git\\coursesfromnick\\sentiment_analysis\\sentiment_analysis\\lib\\site-packages (from requests>=2.4.2->detectlanguage) (2022.12.7)\n",
      "Installing collected packages: pytz, numpy, pandas\n",
      "Successfully installed numpy-1.24.1 pandas-1.5.3 pytz-2022.7.1\n"
     ]
    }
   ],
   "source": [
    "!pip install detectlanguage pandas"
   ]
  },
  {
   "cell_type": "code",
   "execution_count": 3,
   "id": "d93928d4-d242-4814-973d-ac5a861cbc4a",
   "metadata": {},
   "outputs": [],
   "source": [
    "import detectlanguage\n",
    "import pandas as pd"
   ]
  },
  {
   "cell_type": "code",
   "execution_count": 18,
   "id": "d126f060-89c9-4a6b-aa5f-a32c290a3d17",
   "metadata": {},
   "outputs": [],
   "source": [
    "# Setup the API key\n",
    "detectlanguage.configuration.api_key = \"API_KEY\""
   ]
  },
  {
   "cell_type": "code",
   "execution_count": 19,
   "id": "c949f21c-cd7f-4175-b869-a07933cf13de",
   "metadata": {},
   "outputs": [
    {
     "name": "stdout",
     "output_type": "stream",
     "text": [
      "Pacco arrivato per tempo, grazie alla puntualità di amazon. Prodotto valido per un ottimo compromesso di affilatura e durata. Utilizzato sia con un rasoio di sicurezza Merkur Future 700 che con un rasoio closed comb di muhle. Consigliato | it\n"
     ]
    }
   ],
   "source": [
    "# Test API to detect languages\n",
    "review = reviews[120]\n",
    "language = detectlanguage.detect(review)\n",
    "print(review, '|' ,language[0]['language'])"
   ]
  },
  {
   "cell_type": "code",
   "execution_count": 21,
   "id": "bd81d30c-0353-40a4-995b-29b1009f072d",
   "metadata": {},
   "outputs": [],
   "source": [
    "# Detect languges of all reviews\n",
    "languages = []\n",
    "for review in reviews:\n",
    "    language = detectlanguage.detect(review)\n",
    "    languages.append(language[0]['language'])"
   ]
  },
  {
   "cell_type": "code",
   "execution_count": 22,
   "id": "04b9717d-47c6-4e3b-974f-cb8ebd766a24",
   "metadata": {},
   "outputs": [],
   "source": [
    "# Construct Data frame containing review and Language\n",
    "df = pd.DataFrame({'Review': reviews, 'Language': languages})"
   ]
  },
  {
   "cell_type": "code",
   "execution_count": 179,
   "id": "5a8645ce-7663-4ad8-bb78-fd540bbae779",
   "metadata": {},
   "outputs": [
    {
     "data": {
      "text/plain": [
       "de    95\n",
       "it    17\n",
       "fr    13\n",
       "es     8\n",
       "en     6\n",
       "Name: Language, dtype: int64"
      ]
     },
     "execution_count": 179,
     "metadata": {},
     "output_type": "execute_result"
    }
   ],
   "source": [
    "df['Language'].value_counts()"
   ]
  },
  {
   "cell_type": "code",
   "execution_count": 23,
   "id": "5e787b25-64d3-45ad-b3c6-d2f95b2d7b60",
   "metadata": {},
   "outputs": [],
   "source": [
    "# Save df as csv\n",
    "df.to_csv('Data/Reviews.csv')"
   ]
  },
  {
   "cell_type": "markdown",
   "id": "027a6b46-99ad-4e85-897a-093d27ad5fa8",
   "metadata": {
    "tags": []
   },
   "source": [
    "## 2.2 Translate reviews"
   ]
  },
  {
   "cell_type": "code",
   "execution_count": 31,
   "id": "2a051d74-5df9-4624-b51f-714085de3650",
   "metadata": {
    "collapsed": true,
    "jupyter": {
     "outputs_hidden": true
    },
    "tags": []
   },
   "outputs": [
    {
     "name": "stdout",
     "output_type": "stream",
     "text": [
      "Collecting deepl\n",
      "  Downloading deepl-1.13.0-py3-none-any.whl (37 kB)\n",
      "Requirement already satisfied: requests<3,>=2 in c:\\users\\leonr\\desktop\\git\\coursesfromnick\\sentiment_analysis\\sentiment_analysis\\lib\\site-packages (from deepl) (2.28.2)\n",
      "Requirement already satisfied: charset-normalizer<4,>=2 in c:\\users\\leonr\\desktop\\git\\coursesfromnick\\sentiment_analysis\\sentiment_analysis\\lib\\site-packages (from requests<3,>=2->deepl) (3.0.1)\n",
      "Requirement already satisfied: idna<4,>=2.5 in c:\\users\\leonr\\desktop\\git\\coursesfromnick\\sentiment_analysis\\sentiment_analysis\\lib\\site-packages (from requests<3,>=2->deepl) (3.4)\n",
      "Requirement already satisfied: certifi>=2017.4.17 in c:\\users\\leonr\\desktop\\git\\coursesfromnick\\sentiment_analysis\\sentiment_analysis\\lib\\site-packages (from requests<3,>=2->deepl) (2022.12.7)\n",
      "Requirement already satisfied: urllib3<1.27,>=1.21.1 in c:\\users\\leonr\\desktop\\git\\coursesfromnick\\sentiment_analysis\\sentiment_analysis\\lib\\site-packages (from requests<3,>=2->deepl) (1.26.14)\n",
      "Installing collected packages: deepl\n",
      "Successfully installed deepl-1.13.0\n"
     ]
    }
   ],
   "source": [
    "!pip install deepl"
   ]
  },
  {
   "cell_type": "code",
   "execution_count": 67,
   "id": "4632788c-cc06-41bd-935f-e6c41982c7be",
   "metadata": {},
   "outputs": [],
   "source": [
    "import deepl"
   ]
  },
  {
   "cell_type": "code",
   "execution_count": 68,
   "id": "735c836f-6c71-45c6-a7b9-dfebe5d70cb7",
   "metadata": {},
   "outputs": [],
   "source": [
    "# Read csv\n",
    "df = pd.read_csv('Data/Reviews.csv', index_col=0)"
   ]
  },
  {
   "cell_type": "code",
   "execution_count": 69,
   "id": "71a6140b-0327-41cd-a504-290f56c816ea",
   "metadata": {},
   "outputs": [],
   "source": [
    "deepl_auth_key = 'API-KEY'\n",
    "translator = deepl.Translator(deepl_auth_key)"
   ]
  },
  {
   "cell_type": "code",
   "execution_count": 70,
   "id": "593b12a7-3d02-4d00-ae17-99daf7931c73",
   "metadata": {},
   "outputs": [
    {
     "name": "stdout",
     "output_type": "stream",
     "text": [
      "Top Produkt mit einer sehr gute Qualität | Top product with a very good quality\n"
     ]
    }
   ],
   "source": [
    "review = df.iloc[0,0]\n",
    "language = df.iloc[0,1]\n",
    "translated = translator.translate_text(review, target_lang='en-gb')\n",
    "print(review, '|' ,translated)"
   ]
  },
  {
   "cell_type": "code",
   "execution_count": 71,
   "id": "dc771834-ec09-44f7-80bb-26c9d7256787",
   "metadata": {},
   "outputs": [],
   "source": [
    "# Translate reviews\n",
    "translations = []\n",
    "for row in df.iterrows():\n",
    "    review = row[1][0]\n",
    "    language = row[1][1]\n",
    "    if language == 'en':\n",
    "        tranlation = review\n",
    "    else:\n",
    "        translation = translator.translate_text(review, target_lang='en-gb', source_lang=language)\n",
    "        \n",
    "    translations.append(translation)"
   ]
  },
  {
   "cell_type": "code",
   "execution_count": 72,
   "id": "06448ed9-61d1-421e-87be-fbcc6a1b7d90",
   "metadata": {},
   "outputs": [],
   "source": [
    "# Add Translation to dataframe\n",
    "df['Translated'] = translations"
   ]
  },
  {
   "cell_type": "code",
   "execution_count": 73,
   "id": "32e9cbd7-bf31-42fe-bb59-592bc1c9bece",
   "metadata": {},
   "outputs": [],
   "source": [
    "df.to_csv('Data/Reviews_Translated.csv')"
   ]
  },
  {
   "cell_type": "markdown",
   "id": "85c91456-5246-4f2a-a874-7cae0387cce8",
   "metadata": {
    "jp-MarkdownHeadingCollapsed": true,
    "tags": []
   },
   "source": [
    "# 3. Analysing the Reviews"
   ]
  },
  {
   "cell_type": "markdown",
   "id": "c1166a0c-ef02-4604-8365-e30bd79ef712",
   "metadata": {
    "tags": []
   },
   "source": [
    "## 3.1 Callculating Text Metrics"
   ]
  },
  {
   "cell_type": "code",
   "execution_count": 4,
   "id": "5b194f9a-ccdc-40a4-bea2-292889ff8175",
   "metadata": {},
   "outputs": [],
   "source": [
    "df = pd.read_csv('Data/Reviews_Translated.csv', index_col=0)"
   ]
  },
  {
   "cell_type": "code",
   "execution_count": 5,
   "id": "b383b6c3-7944-4ea5-97b7-1501320bc31c",
   "metadata": {},
   "outputs": [
    {
     "data": {
      "text/html": [
       "<div>\n",
       "<style scoped>\n",
       "    .dataframe tbody tr th:only-of-type {\n",
       "        vertical-align: middle;\n",
       "    }\n",
       "\n",
       "    .dataframe tbody tr th {\n",
       "        vertical-align: top;\n",
       "    }\n",
       "\n",
       "    .dataframe thead th {\n",
       "        text-align: right;\n",
       "    }\n",
       "</style>\n",
       "<table border=\"1\" class=\"dataframe\">\n",
       "  <thead>\n",
       "    <tr style=\"text-align: right;\">\n",
       "      <th></th>\n",
       "      <th>Review</th>\n",
       "      <th>Language</th>\n",
       "      <th>Translated</th>\n",
       "    </tr>\n",
       "  </thead>\n",
       "  <tbody>\n",
       "    <tr>\n",
       "      <th>0</th>\n",
       "      <td>Top Produkt mit einer sehr gute Qualität</td>\n",
       "      <td>de</td>\n",
       "      <td>Top product with a very good quality</td>\n",
       "    </tr>\n",
       "    <tr>\n",
       "      <th>1</th>\n",
       "      <td>Hallo,Ich hab das Produkt für meinen Rasierhob...</td>\n",
       "      <td>de</td>\n",
       "      <td>Hello,I bought this product for my razor. The ...</td>\n",
       "    </tr>\n",
       "    <tr>\n",
       "      <th>2</th>\n",
       "      <td>Da ich mich länger mit Rasiermesser und Rasier...</td>\n",
       "      <td>de</td>\n",
       "      <td>Since I've been shaving with a razor and strai...</td>\n",
       "    </tr>\n",
       "    <tr>\n",
       "      <th>3</th>\n",
       "      <td>Klingen laufen gut und sind scharf für 2 Rasur...</td>\n",
       "      <td>de</td>\n",
       "      <td>Blades run well and are sharp for 2 shaves, th...</td>\n",
       "    </tr>\n",
       "    <tr>\n",
       "      <th>4</th>\n",
       "      <td>Bei mir halten die mindestens 10 Mal wobei die...</td>\n",
       "      <td>de</td>\n",
       "      <td>For me, they last at least 10 times, whereas t...</td>\n",
       "    </tr>\n",
       "  </tbody>\n",
       "</table>\n",
       "</div>"
      ],
      "text/plain": [
       "                                              Review Language  \\\n",
       "0           Top Produkt mit einer sehr gute Qualität       de   \n",
       "1  Hallo,Ich hab das Produkt für meinen Rasierhob...       de   \n",
       "2  Da ich mich länger mit Rasiermesser und Rasier...       de   \n",
       "3  Klingen laufen gut und sind scharf für 2 Rasur...       de   \n",
       "4  Bei mir halten die mindestens 10 Mal wobei die...       de   \n",
       "\n",
       "                                          Translated  \n",
       "0               Top product with a very good quality  \n",
       "1  Hello,I bought this product for my razor. The ...  \n",
       "2  Since I've been shaving with a razor and strai...  \n",
       "3  Blades run well and are sharp for 2 shaves, th...  \n",
       "4  For me, they last at least 10 times, whereas t...  "
      ]
     },
     "execution_count": 5,
     "metadata": {},
     "output_type": "execute_result"
    }
   ],
   "source": [
    "df.head()"
   ]
  },
  {
   "cell_type": "code",
   "execution_count": 6,
   "id": "591837a8-a213-47e6-b997-74b8bb3569c6",
   "metadata": {},
   "outputs": [],
   "source": [
    "df['Word_Count'] = df['Translated'].apply(lambda x: len(str(x).split()))\n",
    "df['Char_Count'] = df['Translated'].str.len()"
   ]
  },
  {
   "cell_type": "code",
   "execution_count": 7,
   "id": "72920c0a-8983-4ceb-a8a7-ba8780b13018",
   "metadata": {},
   "outputs": [
    {
     "data": {
      "text/plain": [
       "\"We are beginners with the razor and are now trying out the blades from various manufacturers. I, a woman, am completely satisfied with the blades. I use them with a little shaving foam for all parts of the body. They are very sharp and don't dull quickly. The packaging is also good, you can always slide out a single blade. My boyfriend also thinks they are great and definitely better than those from the cheap manufacturers, but he is a bit demanding. He gets a bit twitchy when shaving his beard, so he's looking a bit further. All in all, it's great quality, but for the price, just try it out for yourself.\""
      ]
     },
     "execution_count": 7,
     "metadata": {},
     "output_type": "execute_result"
    }
   ],
   "source": [
    "df[df['Word_Count'] == 113]['Translated'][8]"
   ]
  },
  {
   "cell_type": "code",
   "execution_count": 8,
   "id": "bcaf9361-8600-4db9-a42a-437428f6b527",
   "metadata": {},
   "outputs": [
    {
     "data": {
      "text/html": [
       "<div>\n",
       "<style scoped>\n",
       "    .dataframe tbody tr th:only-of-type {\n",
       "        vertical-align: middle;\n",
       "    }\n",
       "\n",
       "    .dataframe tbody tr th {\n",
       "        vertical-align: top;\n",
       "    }\n",
       "\n",
       "    .dataframe thead th {\n",
       "        text-align: right;\n",
       "    }\n",
       "</style>\n",
       "<table border=\"1\" class=\"dataframe\">\n",
       "  <thead>\n",
       "    <tr style=\"text-align: right;\">\n",
       "      <th></th>\n",
       "      <th>Review</th>\n",
       "      <th>Language</th>\n",
       "      <th>Translated</th>\n",
       "      <th>Word_Count</th>\n",
       "      <th>Char_Count</th>\n",
       "    </tr>\n",
       "  </thead>\n",
       "  <tbody>\n",
       "    <tr>\n",
       "      <th>59</th>\n",
       "      <td>Perfekt</td>\n",
       "      <td>de</td>\n",
       "      <td>Perfect</td>\n",
       "      <td>1</td>\n",
       "      <td>7</td>\n",
       "    </tr>\n",
       "    <tr>\n",
       "      <th>70</th>\n",
       "      <td>Qualität</td>\n",
       "      <td>de</td>\n",
       "      <td>Quality</td>\n",
       "      <td>1</td>\n",
       "      <td>7</td>\n",
       "    </tr>\n",
       "    <tr>\n",
       "      <th>71</th>\n",
       "      <td>zufrieden!</td>\n",
       "      <td>de</td>\n",
       "      <td>satisfied!</td>\n",
       "      <td>1</td>\n",
       "      <td>10</td>\n",
       "    </tr>\n",
       "    <tr>\n",
       "      <th>110</th>\n",
       "      <td>Perfetto</td>\n",
       "      <td>it</td>\n",
       "      <td>Perfect</td>\n",
       "      <td>1</td>\n",
       "      <td>7</td>\n",
       "    </tr>\n",
       "  </tbody>\n",
       "</table>\n",
       "</div>"
      ],
      "text/plain": [
       "         Review Language  Translated  Word_Count  Char_Count\n",
       "59      Perfekt       de     Perfect           1           7\n",
       "70     Qualität       de     Quality           1           7\n",
       "71   zufrieden!       de  satisfied!           1          10\n",
       "110    Perfetto       it     Perfect           1           7"
      ]
     },
     "execution_count": 8,
     "metadata": {},
     "output_type": "execute_result"
    }
   ],
   "source": [
    "df[df['Word_Count'] == 1]"
   ]
  },
  {
   "cell_type": "markdown",
   "id": "499c033d-4912-47be-9c74-f5b5aa147b0a",
   "metadata": {
    "tags": []
   },
   "source": [
    "## 3.2 Counting Stopwords"
   ]
  },
  {
   "cell_type": "code",
   "execution_count": 9,
   "id": "00d10743-9967-4077-908c-089ed7a2246f",
   "metadata": {},
   "outputs": [
    {
     "name": "stderr",
     "output_type": "stream",
     "text": [
      "[nltk_data] Downloading package stopwords to\n",
      "[nltk_data]     C:\\Users\\leonr\\AppData\\Roaming\\nltk_data...\n",
      "[nltk_data]   Package stopwords is already up-to-date!\n"
     ]
    }
   ],
   "source": [
    "import nltk\n",
    "nltk.download('stopwords')\n",
    "from nltk.corpus import stopwords"
   ]
  },
  {
   "cell_type": "code",
   "execution_count": 10,
   "id": "ab3f7c85-b642-43e4-adb7-b7c30411dd21",
   "metadata": {},
   "outputs": [],
   "source": [
    "stop_words = stopwords.words('english')"
   ]
  },
  {
   "cell_type": "code",
   "execution_count": 11,
   "id": "6a883c97-10db-4303-af10-83ccfabdf382",
   "metadata": {},
   "outputs": [],
   "source": [
    "df['Stop-Words'] = df['Translated'].apply(lambda x: len([x for x in x.split() if x in stop_words]))"
   ]
  },
  {
   "cell_type": "code",
   "execution_count": 12,
   "id": "90dc3198-acbc-4f48-8554-a44b0f53b6a3",
   "metadata": {},
   "outputs": [
    {
     "data": {
      "text/html": [
       "<div>\n",
       "<style scoped>\n",
       "    .dataframe tbody tr th:only-of-type {\n",
       "        vertical-align: middle;\n",
       "    }\n",
       "\n",
       "    .dataframe tbody tr th {\n",
       "        vertical-align: top;\n",
       "    }\n",
       "\n",
       "    .dataframe thead th {\n",
       "        text-align: right;\n",
       "    }\n",
       "</style>\n",
       "<table border=\"1\" class=\"dataframe\">\n",
       "  <thead>\n",
       "    <tr style=\"text-align: right;\">\n",
       "      <th></th>\n",
       "      <th>Review</th>\n",
       "      <th>Language</th>\n",
       "      <th>Translated</th>\n",
       "      <th>Word_Count</th>\n",
       "      <th>Char_Count</th>\n",
       "      <th>Stop-Words</th>\n",
       "    </tr>\n",
       "  </thead>\n",
       "  <tbody>\n",
       "    <tr>\n",
       "      <th>0</th>\n",
       "      <td>Top Produkt mit einer sehr gute Qualität</td>\n",
       "      <td>de</td>\n",
       "      <td>Top product with a very good quality</td>\n",
       "      <td>7</td>\n",
       "      <td>36</td>\n",
       "      <td>3</td>\n",
       "    </tr>\n",
       "    <tr>\n",
       "      <th>1</th>\n",
       "      <td>Hallo,Ich hab das Produkt für meinen Rasierhob...</td>\n",
       "      <td>de</td>\n",
       "      <td>Hello,I bought this product for my razor. The ...</td>\n",
       "      <td>107</td>\n",
       "      <td>635</td>\n",
       "      <td>44</td>\n",
       "    </tr>\n",
       "    <tr>\n",
       "      <th>2</th>\n",
       "      <td>Da ich mich länger mit Rasiermesser und Rasier...</td>\n",
       "      <td>de</td>\n",
       "      <td>Since I've been shaving with a razor and strai...</td>\n",
       "      <td>102</td>\n",
       "      <td>554</td>\n",
       "      <td>45</td>\n",
       "    </tr>\n",
       "    <tr>\n",
       "      <th>3</th>\n",
       "      <td>Klingen laufen gut und sind scharf für 2 Rasur...</td>\n",
       "      <td>de</td>\n",
       "      <td>Blades run well and are sharp for 2 shaves, th...</td>\n",
       "      <td>22</td>\n",
       "      <td>183</td>\n",
       "      <td>9</td>\n",
       "    </tr>\n",
       "    <tr>\n",
       "      <th>4</th>\n",
       "      <td>Bei mir halten die mindestens 10 Mal wobei die...</td>\n",
       "      <td>de</td>\n",
       "      <td>For me, they last at least 10 times, whereas t...</td>\n",
       "      <td>20</td>\n",
       "      <td>98</td>\n",
       "      <td>7</td>\n",
       "    </tr>\n",
       "  </tbody>\n",
       "</table>\n",
       "</div>"
      ],
      "text/plain": [
       "                                              Review Language  \\\n",
       "0           Top Produkt mit einer sehr gute Qualität       de   \n",
       "1  Hallo,Ich hab das Produkt für meinen Rasierhob...       de   \n",
       "2  Da ich mich länger mit Rasiermesser und Rasier...       de   \n",
       "3  Klingen laufen gut und sind scharf für 2 Rasur...       de   \n",
       "4  Bei mir halten die mindestens 10 Mal wobei die...       de   \n",
       "\n",
       "                                          Translated  Word_Count  Char_Count  \\\n",
       "0               Top product with a very good quality           7          36   \n",
       "1  Hello,I bought this product for my razor. The ...         107         635   \n",
       "2  Since I've been shaving with a razor and strai...         102         554   \n",
       "3  Blades run well and are sharp for 2 shaves, th...          22         183   \n",
       "4  For me, they last at least 10 times, whereas t...          20          98   \n",
       "\n",
       "   Stop-Words  \n",
       "0           3  \n",
       "1          44  \n",
       "2          45  \n",
       "3           9  \n",
       "4           7  "
      ]
     },
     "execution_count": 12,
     "metadata": {},
     "output_type": "execute_result"
    }
   ],
   "source": [
    "df.head()"
   ]
  },
  {
   "cell_type": "markdown",
   "id": "ad858bc8-17ab-4a60-b184-2314648ecb00",
   "metadata": {
    "jp-MarkdownHeadingCollapsed": true,
    "tags": []
   },
   "source": [
    "# 4. Preprocessing"
   ]
  },
  {
   "cell_type": "markdown",
   "id": "806f574a-451c-405c-a579-7f6e46dcc2e3",
   "metadata": {
    "jp-MarkdownHeadingCollapsed": true,
    "tags": []
   },
   "source": [
    "## 4.1 Lowercase all Words"
   ]
  },
  {
   "cell_type": "code",
   "execution_count": 14,
   "id": "48e5a4eb-ea06-4c0d-857d-ea41d76a468f",
   "metadata": {},
   "outputs": [
    {
     "data": {
      "text/plain": [
       "Index(['Review', 'Language', 'Translated', 'Word_Count', 'Char_Count',\n",
       "       'Stop-Words'],\n",
       "      dtype='object')"
      ]
     },
     "execution_count": 14,
     "metadata": {},
     "output_type": "execute_result"
    }
   ],
   "source": [
    "df.columns"
   ]
  },
  {
   "cell_type": "code",
   "execution_count": 15,
   "id": "be27fc39-5af5-4336-997b-42834999000d",
   "metadata": {},
   "outputs": [],
   "source": [
    "df['Translated_Lower'] = df['Translated'].str.lower()"
   ]
  },
  {
   "cell_type": "code",
   "execution_count": 16,
   "id": "431b7ef9-054d-4316-b959-e61199e9f0e7",
   "metadata": {},
   "outputs": [
    {
     "data": {
      "text/html": [
       "<div>\n",
       "<style scoped>\n",
       "    .dataframe tbody tr th:only-of-type {\n",
       "        vertical-align: middle;\n",
       "    }\n",
       "\n",
       "    .dataframe tbody tr th {\n",
       "        vertical-align: top;\n",
       "    }\n",
       "\n",
       "    .dataframe thead th {\n",
       "        text-align: right;\n",
       "    }\n",
       "</style>\n",
       "<table border=\"1\" class=\"dataframe\">\n",
       "  <thead>\n",
       "    <tr style=\"text-align: right;\">\n",
       "      <th></th>\n",
       "      <th>Review</th>\n",
       "      <th>Language</th>\n",
       "      <th>Translated</th>\n",
       "      <th>Word_Count</th>\n",
       "      <th>Char_Count</th>\n",
       "      <th>Stop-Words</th>\n",
       "      <th>Translated_Lower</th>\n",
       "    </tr>\n",
       "  </thead>\n",
       "  <tbody>\n",
       "    <tr>\n",
       "      <th>0</th>\n",
       "      <td>Top Produkt mit einer sehr gute Qualität</td>\n",
       "      <td>de</td>\n",
       "      <td>Top product with a very good quality</td>\n",
       "      <td>7</td>\n",
       "      <td>36</td>\n",
       "      <td>3</td>\n",
       "      <td>top product with a very good quality</td>\n",
       "    </tr>\n",
       "    <tr>\n",
       "      <th>1</th>\n",
       "      <td>Hallo,Ich hab das Produkt für meinen Rasierhob...</td>\n",
       "      <td>de</td>\n",
       "      <td>Hello,I bought this product for my razor. The ...</td>\n",
       "      <td>107</td>\n",
       "      <td>635</td>\n",
       "      <td>44</td>\n",
       "      <td>hello,i bought this product for my razor. the ...</td>\n",
       "    </tr>\n",
       "    <tr>\n",
       "      <th>2</th>\n",
       "      <td>Da ich mich länger mit Rasiermesser und Rasier...</td>\n",
       "      <td>de</td>\n",
       "      <td>Since I've been shaving with a razor and strai...</td>\n",
       "      <td>102</td>\n",
       "      <td>554</td>\n",
       "      <td>45</td>\n",
       "      <td>since i've been shaving with a razor and strai...</td>\n",
       "    </tr>\n",
       "    <tr>\n",
       "      <th>3</th>\n",
       "      <td>Klingen laufen gut und sind scharf für 2 Rasur...</td>\n",
       "      <td>de</td>\n",
       "      <td>Blades run well and are sharp for 2 shaves, th...</td>\n",
       "      <td>22</td>\n",
       "      <td>183</td>\n",
       "      <td>9</td>\n",
       "      <td>blades run well and are sharp for 2 shaves, th...</td>\n",
       "    </tr>\n",
       "    <tr>\n",
       "      <th>4</th>\n",
       "      <td>Bei mir halten die mindestens 10 Mal wobei die...</td>\n",
       "      <td>de</td>\n",
       "      <td>For me, they last at least 10 times, whereas t...</td>\n",
       "      <td>20</td>\n",
       "      <td>98</td>\n",
       "      <td>7</td>\n",
       "      <td>for me, they last at least 10 times, whereas t...</td>\n",
       "    </tr>\n",
       "  </tbody>\n",
       "</table>\n",
       "</div>"
      ],
      "text/plain": [
       "                                              Review Language  \\\n",
       "0           Top Produkt mit einer sehr gute Qualität       de   \n",
       "1  Hallo,Ich hab das Produkt für meinen Rasierhob...       de   \n",
       "2  Da ich mich länger mit Rasiermesser und Rasier...       de   \n",
       "3  Klingen laufen gut und sind scharf für 2 Rasur...       de   \n",
       "4  Bei mir halten die mindestens 10 Mal wobei die...       de   \n",
       "\n",
       "                                          Translated  Word_Count  Char_Count  \\\n",
       "0               Top product with a very good quality           7          36   \n",
       "1  Hello,I bought this product for my razor. The ...         107         635   \n",
       "2  Since I've been shaving with a razor and strai...         102         554   \n",
       "3  Blades run well and are sharp for 2 shaves, th...          22         183   \n",
       "4  For me, they last at least 10 times, whereas t...          20          98   \n",
       "\n",
       "   Stop-Words                                   Translated_Lower  \n",
       "0           3               top product with a very good quality  \n",
       "1          44  hello,i bought this product for my razor. the ...  \n",
       "2          45  since i've been shaving with a razor and strai...  \n",
       "3           9  blades run well and are sharp for 2 shaves, th...  \n",
       "4           7  for me, they last at least 10 times, whereas t...  "
      ]
     },
     "execution_count": 16,
     "metadata": {},
     "output_type": "execute_result"
    }
   ],
   "source": [
    "df.head()"
   ]
  },
  {
   "cell_type": "markdown",
   "id": "fef248f3-9cb4-4038-b572-0373bc2b9970",
   "metadata": {
    "jp-MarkdownHeadingCollapsed": true,
    "tags": []
   },
   "source": [
    "## 4.2 Stripping Punctuation"
   ]
  },
  {
   "cell_type": "code",
   "execution_count": 17,
   "id": "d921cb4c-babc-484e-9960-50a18e08ee64",
   "metadata": {},
   "outputs": [
    {
     "name": "stderr",
     "output_type": "stream",
     "text": [
      "C:\\Users\\leonr\\AppData\\Local\\Temp\\ipykernel_17264\\420278567.py:1: FutureWarning: The default value of regex will change from True to False in a future version.\n",
      "  df['Translated_Nopunc'] = df['Translated_Lower'].str.replace('[^\\w\\s]','')\n"
     ]
    }
   ],
   "source": [
    "df['Translated_Nopunc'] = df['Translated_Lower'].str.replace('[^\\w\\s]','')"
   ]
  },
  {
   "cell_type": "code",
   "execution_count": 18,
   "id": "3d4fbdbb-b33f-4dec-aeef-9638d121ebe8",
   "metadata": {},
   "outputs": [
    {
     "data": {
      "text/html": [
       "<div>\n",
       "<style scoped>\n",
       "    .dataframe tbody tr th:only-of-type {\n",
       "        vertical-align: middle;\n",
       "    }\n",
       "\n",
       "    .dataframe tbody tr th {\n",
       "        vertical-align: top;\n",
       "    }\n",
       "\n",
       "    .dataframe thead th {\n",
       "        text-align: right;\n",
       "    }\n",
       "</style>\n",
       "<table border=\"1\" class=\"dataframe\">\n",
       "  <thead>\n",
       "    <tr style=\"text-align: right;\">\n",
       "      <th></th>\n",
       "      <th>Review</th>\n",
       "      <th>Language</th>\n",
       "      <th>Translated</th>\n",
       "      <th>Word_Count</th>\n",
       "      <th>Char_Count</th>\n",
       "      <th>Stop-Words</th>\n",
       "      <th>Translated_Lower</th>\n",
       "      <th>Translated_Nopunc</th>\n",
       "    </tr>\n",
       "  </thead>\n",
       "  <tbody>\n",
       "    <tr>\n",
       "      <th>0</th>\n",
       "      <td>Top Produkt mit einer sehr gute Qualität</td>\n",
       "      <td>de</td>\n",
       "      <td>Top product with a very good quality</td>\n",
       "      <td>7</td>\n",
       "      <td>36</td>\n",
       "      <td>3</td>\n",
       "      <td>top product with a very good quality</td>\n",
       "      <td>top product with a very good quality</td>\n",
       "    </tr>\n",
       "    <tr>\n",
       "      <th>1</th>\n",
       "      <td>Hallo,Ich hab das Produkt für meinen Rasierhob...</td>\n",
       "      <td>de</td>\n",
       "      <td>Hello,I bought this product for my razor. The ...</td>\n",
       "      <td>107</td>\n",
       "      <td>635</td>\n",
       "      <td>44</td>\n",
       "      <td>hello,i bought this product for my razor. the ...</td>\n",
       "      <td>helloi bought this product for my razor the bl...</td>\n",
       "    </tr>\n",
       "    <tr>\n",
       "      <th>2</th>\n",
       "      <td>Da ich mich länger mit Rasiermesser und Rasier...</td>\n",
       "      <td>de</td>\n",
       "      <td>Since I've been shaving with a razor and strai...</td>\n",
       "      <td>102</td>\n",
       "      <td>554</td>\n",
       "      <td>45</td>\n",
       "      <td>since i've been shaving with a razor and strai...</td>\n",
       "      <td>since ive been shaving with a razor and straig...</td>\n",
       "    </tr>\n",
       "    <tr>\n",
       "      <th>3</th>\n",
       "      <td>Klingen laufen gut und sind scharf für 2 Rasur...</td>\n",
       "      <td>de</td>\n",
       "      <td>Blades run well and are sharp for 2 shaves, th...</td>\n",
       "      <td>22</td>\n",
       "      <td>183</td>\n",
       "      <td>9</td>\n",
       "      <td>blades run well and are sharp for 2 shaves, th...</td>\n",
       "      <td>blades run well and are sharp for 2 shaves the...</td>\n",
       "    </tr>\n",
       "    <tr>\n",
       "      <th>4</th>\n",
       "      <td>Bei mir halten die mindestens 10 Mal wobei die...</td>\n",
       "      <td>de</td>\n",
       "      <td>For me, they last at least 10 times, whereas t...</td>\n",
       "      <td>20</td>\n",
       "      <td>98</td>\n",
       "      <td>7</td>\n",
       "      <td>for me, they last at least 10 times, whereas t...</td>\n",
       "      <td>for me they last at least 10 times whereas the...</td>\n",
       "    </tr>\n",
       "  </tbody>\n",
       "</table>\n",
       "</div>"
      ],
      "text/plain": [
       "                                              Review Language  \\\n",
       "0           Top Produkt mit einer sehr gute Qualität       de   \n",
       "1  Hallo,Ich hab das Produkt für meinen Rasierhob...       de   \n",
       "2  Da ich mich länger mit Rasiermesser und Rasier...       de   \n",
       "3  Klingen laufen gut und sind scharf für 2 Rasur...       de   \n",
       "4  Bei mir halten die mindestens 10 Mal wobei die...       de   \n",
       "\n",
       "                                          Translated  Word_Count  Char_Count  \\\n",
       "0               Top product with a very good quality           7          36   \n",
       "1  Hello,I bought this product for my razor. The ...         107         635   \n",
       "2  Since I've been shaving with a razor and strai...         102         554   \n",
       "3  Blades run well and are sharp for 2 shaves, th...          22         183   \n",
       "4  For me, they last at least 10 times, whereas t...          20          98   \n",
       "\n",
       "   Stop-Words                                   Translated_Lower  \\\n",
       "0           3               top product with a very good quality   \n",
       "1          44  hello,i bought this product for my razor. the ...   \n",
       "2          45  since i've been shaving with a razor and strai...   \n",
       "3           9  blades run well and are sharp for 2 shaves, th...   \n",
       "4           7  for me, they last at least 10 times, whereas t...   \n",
       "\n",
       "                                   Translated_Nopunc  \n",
       "0               top product with a very good quality  \n",
       "1  helloi bought this product for my razor the bl...  \n",
       "2  since ive been shaving with a razor and straig...  \n",
       "3  blades run well and are sharp for 2 shaves the...  \n",
       "4  for me they last at least 10 times whereas the...  "
      ]
     },
     "execution_count": 18,
     "metadata": {},
     "output_type": "execute_result"
    }
   ],
   "source": [
    "df.head()"
   ]
  },
  {
   "cell_type": "markdown",
   "id": "cbb3d49d-ec0e-419b-82d1-e01dd1a6f6b5",
   "metadata": {
    "jp-MarkdownHeadingCollapsed": true,
    "tags": []
   },
   "source": [
    "## 4.3 Removing Stopwords"
   ]
  },
  {
   "cell_type": "code",
   "execution_count": 21,
   "id": "3038899c-57d3-44e6-97ba-b305b7b51505",
   "metadata": {},
   "outputs": [],
   "source": [
    "df['Translated_Nostop'] = df['Translated_Nopunc'].apply(\n",
    "    lambda x: \" \".join(word for word in x.split() if word not in stop_words))"
   ]
  },
  {
   "cell_type": "code",
   "execution_count": 22,
   "id": "538b8881-dc85-4739-88fd-3703f47239fa",
   "metadata": {},
   "outputs": [
    {
     "data": {
      "text/html": [
       "<div>\n",
       "<style scoped>\n",
       "    .dataframe tbody tr th:only-of-type {\n",
       "        vertical-align: middle;\n",
       "    }\n",
       "\n",
       "    .dataframe tbody tr th {\n",
       "        vertical-align: top;\n",
       "    }\n",
       "\n",
       "    .dataframe thead th {\n",
       "        text-align: right;\n",
       "    }\n",
       "</style>\n",
       "<table border=\"1\" class=\"dataframe\">\n",
       "  <thead>\n",
       "    <tr style=\"text-align: right;\">\n",
       "      <th></th>\n",
       "      <th>Review</th>\n",
       "      <th>Language</th>\n",
       "      <th>Translated</th>\n",
       "      <th>Word_Count</th>\n",
       "      <th>Char_Count</th>\n",
       "      <th>Stop-Words</th>\n",
       "      <th>Translated_Lower</th>\n",
       "      <th>Translated_Nopunc</th>\n",
       "      <th>Translated_Nostop</th>\n",
       "    </tr>\n",
       "  </thead>\n",
       "  <tbody>\n",
       "    <tr>\n",
       "      <th>0</th>\n",
       "      <td>Top Produkt mit einer sehr gute Qualität</td>\n",
       "      <td>de</td>\n",
       "      <td>Top product with a very good quality</td>\n",
       "      <td>7</td>\n",
       "      <td>36</td>\n",
       "      <td>3</td>\n",
       "      <td>top product with a very good quality</td>\n",
       "      <td>top product with a very good quality</td>\n",
       "      <td>top product good quality</td>\n",
       "    </tr>\n",
       "    <tr>\n",
       "      <th>1</th>\n",
       "      <td>Hallo,Ich hab das Produkt für meinen Rasierhob...</td>\n",
       "      <td>de</td>\n",
       "      <td>Hello,I bought this product for my razor. The ...</td>\n",
       "      <td>107</td>\n",
       "      <td>635</td>\n",
       "      <td>44</td>\n",
       "      <td>hello,i bought this product for my razor. the ...</td>\n",
       "      <td>helloi bought this product for my razor the bl...</td>\n",
       "      <td>helloi bought product razor blades make shavin...</td>\n",
       "    </tr>\n",
       "    <tr>\n",
       "      <th>2</th>\n",
       "      <td>Da ich mich länger mit Rasiermesser und Rasier...</td>\n",
       "      <td>de</td>\n",
       "      <td>Since I've been shaving with a razor and strai...</td>\n",
       "      <td>102</td>\n",
       "      <td>554</td>\n",
       "      <td>45</td>\n",
       "      <td>since i've been shaving with a razor and strai...</td>\n",
       "      <td>since ive been shaving with a razor and straig...</td>\n",
       "      <td>since ive shaving razor straight razor long ti...</td>\n",
       "    </tr>\n",
       "    <tr>\n",
       "      <th>3</th>\n",
       "      <td>Klingen laufen gut und sind scharf für 2 Rasur...</td>\n",
       "      <td>de</td>\n",
       "      <td>Blades run well and are sharp for 2 shaves, th...</td>\n",
       "      <td>22</td>\n",
       "      <td>183</td>\n",
       "      <td>9</td>\n",
       "      <td>blades run well and are sharp for 2 shaves, th...</td>\n",
       "      <td>blades run well and are sharp for 2 shaves the...</td>\n",
       "      <td>blades run well sharp 2 shaves gets tightother...</td>\n",
       "    </tr>\n",
       "    <tr>\n",
       "      <th>4</th>\n",
       "      <td>Bei mir halten die mindestens 10 Mal wobei die...</td>\n",
       "      <td>de</td>\n",
       "      <td>For me, they last at least 10 times, whereas t...</td>\n",
       "      <td>20</td>\n",
       "      <td>98</td>\n",
       "      <td>7</td>\n",
       "      <td>for me, they last at least 10 times, whereas t...</td>\n",
       "      <td>for me they last at least 10 times whereas the...</td>\n",
       "      <td>last least 10 times whereas brands g w last 3 ...</td>\n",
       "    </tr>\n",
       "  </tbody>\n",
       "</table>\n",
       "</div>"
      ],
      "text/plain": [
       "                                              Review Language  \\\n",
       "0           Top Produkt mit einer sehr gute Qualität       de   \n",
       "1  Hallo,Ich hab das Produkt für meinen Rasierhob...       de   \n",
       "2  Da ich mich länger mit Rasiermesser und Rasier...       de   \n",
       "3  Klingen laufen gut und sind scharf für 2 Rasur...       de   \n",
       "4  Bei mir halten die mindestens 10 Mal wobei die...       de   \n",
       "\n",
       "                                          Translated  Word_Count  Char_Count  \\\n",
       "0               Top product with a very good quality           7          36   \n",
       "1  Hello,I bought this product for my razor. The ...         107         635   \n",
       "2  Since I've been shaving with a razor and strai...         102         554   \n",
       "3  Blades run well and are sharp for 2 shaves, th...          22         183   \n",
       "4  For me, they last at least 10 times, whereas t...          20          98   \n",
       "\n",
       "   Stop-Words                                   Translated_Lower  \\\n",
       "0           3               top product with a very good quality   \n",
       "1          44  hello,i bought this product for my razor. the ...   \n",
       "2          45  since i've been shaving with a razor and strai...   \n",
       "3           9  blades run well and are sharp for 2 shaves, th...   \n",
       "4           7  for me, they last at least 10 times, whereas t...   \n",
       "\n",
       "                                   Translated_Nopunc  \\\n",
       "0               top product with a very good quality   \n",
       "1  helloi bought this product for my razor the bl...   \n",
       "2  since ive been shaving with a razor and straig...   \n",
       "3  blades run well and are sharp for 2 shaves the...   \n",
       "4  for me they last at least 10 times whereas the...   \n",
       "\n",
       "                                   Translated_Nostop  \n",
       "0                           top product good quality  \n",
       "1  helloi bought product razor blades make shavin...  \n",
       "2  since ive shaving razor straight razor long ti...  \n",
       "3  blades run well sharp 2 shaves gets tightother...  \n",
       "4  last least 10 times whereas brands g w last 3 ...  "
      ]
     },
     "execution_count": 22,
     "metadata": {},
     "output_type": "execute_result"
    }
   ],
   "source": [
    "df.head()"
   ]
  },
  {
   "cell_type": "markdown",
   "id": "e49dc041-ab11-4e48-9284-7319dab91c6a",
   "metadata": {
    "jp-MarkdownHeadingCollapsed": true,
    "tags": []
   },
   "source": [
    "## 4.4 Visualising Common Words"
   ]
  },
  {
   "cell_type": "code",
   "execution_count": 28,
   "id": "43124635-849c-42cc-9bbc-bf4c85639219",
   "metadata": {},
   "outputs": [],
   "source": [
    "import seaborn as sns\n",
    "from matplotlib import pyplot as plt"
   ]
  },
  {
   "cell_type": "code",
   "execution_count": 29,
   "id": "6bf8e5dd-dbf6-4dda-8acf-583ae6cb7943",
   "metadata": {},
   "outputs": [],
   "source": [
    "freq_words = pd.Series(\" \".join(df['Translated_Nostop']).split()).value_counts().reset_index()"
   ]
  },
  {
   "cell_type": "code",
   "execution_count": 30,
   "id": "6fe4f8ab-c43d-456b-8b59-1ea1b79dbea8",
   "metadata": {},
   "outputs": [],
   "source": [
    "freq_words.columns = ['Words', 'Frequencies']"
   ]
  },
  {
   "cell_type": "code",
   "execution_count": 33,
   "id": "4b6c1e60-f3d6-4f27-b7b8-696cf2b4ff98",
   "metadata": {},
   "outputs": [
    {
     "data": {
      "image/png": "[encoded data removed]",
      "text/plain": [
       "<Figure size 2000x600 with 1 Axes>"
      ]
     },
     "metadata": {},
     "output_type": "display_data"
    }
   ],
   "source": [
    "plt.figure(figsize=(20,6))\n",
    "plt.title('Common Words', fontsize=20)\n",
    "sns.barplot(x='Words', y='Frequencies', data=freq_words[:80])\n",
    "plt.xticks(rotation=90)\n",
    "plt.xlabel('Word', fontsize=15)\n",
    "plt.ylabel('Frequency', fontsize=15)\n",
    "plt.show()"
   ]
  },
  {
   "cell_type": "code",
   "execution_count": 34,
   "id": "dcf47291-5b9f-4420-aef4-eb231a8e9866",
   "metadata": {},
   "outputs": [],
   "source": [
    "other_stopwords = ['mühle', 'one', 'ive', 'muhle', '2', '10']"
   ]
  },
  {
   "cell_type": "code",
   "execution_count": 36,
   "id": "c213cfe9-dd62-48a2-96fe-b707e4cd7d68",
   "metadata": {},
   "outputs": [],
   "source": [
    "df['Translated_Noother'] = df['Translated_Nostop'].apply(\n",
    "    lambda x: \" \".join(word for word in x.split() if word not in other_stopwords))"
   ]
  },
  {
   "cell_type": "code",
   "execution_count": 37,
   "id": "f4182b65-2cec-487f-9fb5-46ecb64fbce5",
   "metadata": {},
   "outputs": [
    {
     "data": {
      "text/html": [
       "<div>\n",
       "<style scoped>\n",
       "    .dataframe tbody tr th:only-of-type {\n",
       "        vertical-align: middle;\n",
       "    }\n",
       "\n",
       "    .dataframe tbody tr th {\n",
       "        vertical-align: top;\n",
       "    }\n",
       "\n",
       "    .dataframe thead th {\n",
       "        text-align: right;\n",
       "    }\n",
       "</style>\n",
       "<table border=\"1\" class=\"dataframe\">\n",
       "  <thead>\n",
       "    <tr style=\"text-align: right;\">\n",
       "      <th></th>\n",
       "      <th>Review</th>\n",
       "      <th>Language</th>\n",
       "      <th>Translated</th>\n",
       "      <th>Word_Count</th>\n",
       "      <th>Char_Count</th>\n",
       "      <th>Stop-Words</th>\n",
       "      <th>Translated_Lower</th>\n",
       "      <th>Translated_Nopunc</th>\n",
       "      <th>Translated_Nostop</th>\n",
       "      <th>Translated_Noother</th>\n",
       "    </tr>\n",
       "  </thead>\n",
       "  <tbody>\n",
       "    <tr>\n",
       "      <th>0</th>\n",
       "      <td>Top Produkt mit einer sehr gute Qualität</td>\n",
       "      <td>de</td>\n",
       "      <td>Top product with a very good quality</td>\n",
       "      <td>7</td>\n",
       "      <td>36</td>\n",
       "      <td>3</td>\n",
       "      <td>top product with a very good quality</td>\n",
       "      <td>top product with a very good quality</td>\n",
       "      <td>top product good quality</td>\n",
       "      <td>top product good quality</td>\n",
       "    </tr>\n",
       "    <tr>\n",
       "      <th>1</th>\n",
       "      <td>Hallo,Ich hab das Produkt für meinen Rasierhob...</td>\n",
       "      <td>de</td>\n",
       "      <td>Hello,I bought this product for my razor. The ...</td>\n",
       "      <td>107</td>\n",
       "      <td>635</td>\n",
       "      <td>44</td>\n",
       "      <td>hello,i bought this product for my razor. the ...</td>\n",
       "      <td>helloi bought this product for my razor the bl...</td>\n",
       "      <td>helloi bought product razor blades make shavin...</td>\n",
       "      <td>helloi bought product razor blades make shavin...</td>\n",
       "    </tr>\n",
       "    <tr>\n",
       "      <th>2</th>\n",
       "      <td>Da ich mich länger mit Rasiermesser und Rasier...</td>\n",
       "      <td>de</td>\n",
       "      <td>Since I've been shaving with a razor and strai...</td>\n",
       "      <td>102</td>\n",
       "      <td>554</td>\n",
       "      <td>45</td>\n",
       "      <td>since i've been shaving with a razor and strai...</td>\n",
       "      <td>since ive been shaving with a razor and straig...</td>\n",
       "      <td>since ive shaving razor straight razor long ti...</td>\n",
       "      <td>since shaving razor straight razor long time a...</td>\n",
       "    </tr>\n",
       "    <tr>\n",
       "      <th>3</th>\n",
       "      <td>Klingen laufen gut und sind scharf für 2 Rasur...</td>\n",
       "      <td>de</td>\n",
       "      <td>Blades run well and are sharp for 2 shaves, th...</td>\n",
       "      <td>22</td>\n",
       "      <td>183</td>\n",
       "      <td>9</td>\n",
       "      <td>blades run well and are sharp for 2 shaves, th...</td>\n",
       "      <td>blades run well and are sharp for 2 shaves the...</td>\n",
       "      <td>blades run well sharp 2 shaves gets tightother...</td>\n",
       "      <td>blades run well sharp shaves gets tightotherwi...</td>\n",
       "    </tr>\n",
       "    <tr>\n",
       "      <th>4</th>\n",
       "      <td>Bei mir halten die mindestens 10 Mal wobei die...</td>\n",
       "      <td>de</td>\n",
       "      <td>For me, they last at least 10 times, whereas t...</td>\n",
       "      <td>20</td>\n",
       "      <td>98</td>\n",
       "      <td>7</td>\n",
       "      <td>for me, they last at least 10 times, whereas t...</td>\n",
       "      <td>for me they last at least 10 times whereas the...</td>\n",
       "      <td>last least 10 times whereas brands g w last 3 ...</td>\n",
       "      <td>last least times whereas brands g w last 3 times</td>\n",
       "    </tr>\n",
       "  </tbody>\n",
       "</table>\n",
       "</div>"
      ],
      "text/plain": [
       "                                              Review Language  \\\n",
       "0           Top Produkt mit einer sehr gute Qualität       de   \n",
       "1  Hallo,Ich hab das Produkt für meinen Rasierhob...       de   \n",
       "2  Da ich mich länger mit Rasiermesser und Rasier...       de   \n",
       "3  Klingen laufen gut und sind scharf für 2 Rasur...       de   \n",
       "4  Bei mir halten die mindestens 10 Mal wobei die...       de   \n",
       "\n",
       "                                          Translated  Word_Count  Char_Count  \\\n",
       "0               Top product with a very good quality           7          36   \n",
       "1  Hello,I bought this product for my razor. The ...         107         635   \n",
       "2  Since I've been shaving with a razor and strai...         102         554   \n",
       "3  Blades run well and are sharp for 2 shaves, th...          22         183   \n",
       "4  For me, they last at least 10 times, whereas t...          20          98   \n",
       "\n",
       "   Stop-Words                                   Translated_Lower  \\\n",
       "0           3               top product with a very good quality   \n",
       "1          44  hello,i bought this product for my razor. the ...   \n",
       "2          45  since i've been shaving with a razor and strai...   \n",
       "3           9  blades run well and are sharp for 2 shaves, th...   \n",
       "4           7  for me, they last at least 10 times, whereas t...   \n",
       "\n",
       "                                   Translated_Nopunc  \\\n",
       "0               top product with a very good quality   \n",
       "1  helloi bought this product for my razor the bl...   \n",
       "2  since ive been shaving with a razor and straig...   \n",
       "3  blades run well and are sharp for 2 shaves the...   \n",
       "4  for me they last at least 10 times whereas the...   \n",
       "\n",
       "                                   Translated_Nostop  \\\n",
       "0                           top product good quality   \n",
       "1  helloi bought product razor blades make shavin...   \n",
       "2  since ive shaving razor straight razor long ti...   \n",
       "3  blades run well sharp 2 shaves gets tightother...   \n",
       "4  last least 10 times whereas brands g w last 3 ...   \n",
       "\n",
       "                                  Translated_Noother  \n",
       "0                           top product good quality  \n",
       "1  helloi bought product razor blades make shavin...  \n",
       "2  since shaving razor straight razor long time a...  \n",
       "3  blades run well sharp shaves gets tightotherwi...  \n",
       "4   last least times whereas brands g w last 3 times  "
      ]
     },
     "execution_count": 37,
     "metadata": {},
     "output_type": "execute_result"
    }
   ],
   "source": [
    "df.head()"
   ]
  },
  {
   "cell_type": "code",
   "execution_count": 39,
   "id": "997a1c9f-dbbe-46b9-b65b-2f437d658cf3",
   "metadata": {},
   "outputs": [],
   "source": [
    "freq_words = pd.Series(\" \".join(df['Translated_Noother']).split()).value_counts().reset_index()"
   ]
  },
  {
   "cell_type": "code",
   "execution_count": 41,
   "id": "d07d686d-6eac-43d1-b4d7-823a47497b1b",
   "metadata": {},
   "outputs": [],
   "source": [
    "freq_words.columns = ['Words', 'Frequencies']"
   ]
  },
  {
   "cell_type": "code",
   "execution_count": 42,
   "id": "8c229467-753e-4d65-8f05-ea2cd418a098",
   "metadata": {},
   "outputs": [
    {
     "data": {
      "image/png": "[encoded data removed]",
      "text/plain": [
       "<Figure size 2000x600 with 1 Axes>"
      ]
     },
     "metadata": {},
     "output_type": "display_data"
    }
   ],
   "source": [
    "plt.figure(figsize=(20,6))\n",
    "plt.title('Common Words', fontsize=20)\n",
    "sns.barplot(x='Words', y='Frequencies', data=freq_words[:80])\n",
    "plt.xticks(rotation=90)\n",
    "plt.xlabel('Word', fontsize=15)\n",
    "plt.ylabel('Frequency', fontsize=15)\n",
    "plt.show()"
   ]
  },
  {
   "cell_type": "markdown",
   "id": "38174d5b-5922-47d5-be6a-cd9b064327d6",
   "metadata": {
    "jp-MarkdownHeadingCollapsed": true,
    "tags": []
   },
   "source": [
    "## 4.5 Lemmatize Reviews"
   ]
  },
  {
   "cell_type": "code",
   "execution_count": 43,
   "id": "038b6fd6-d24c-49ae-b4c7-7970b4f8d169",
   "metadata": {},
   "outputs": [
    {
     "name": "stderr",
     "output_type": "stream",
     "text": [
      "[nltk_data] Downloading package wordnet to\n",
      "[nltk_data]     C:\\Users\\leonr\\AppData\\Roaming\\nltk_data...\n",
      "[nltk_data]   Package wordnet is already up-to-date!\n",
      "[nltk_data] Downloading package omw-1.4 to\n",
      "[nltk_data]     C:\\Users\\leonr\\AppData\\Roaming\\nltk_data...\n",
      "[nltk_data]   Package omw-1.4 is already up-to-date!\n"
     ]
    },
    {
     "data": {
      "text/plain": [
       "True"
      ]
     },
     "execution_count": 43,
     "metadata": {},
     "output_type": "execute_result"
    }
   ],
   "source": [
    "from textblob import Word\n",
    "nltk.download('wordnet')\n",
    "nltk.download('omw-1.4')"
   ]
  },
  {
   "cell_type": "code",
   "execution_count": 48,
   "id": "281c6abe-b7d7-40c9-bad0-04df4deece7c",
   "metadata": {},
   "outputs": [],
   "source": [
    "df['Cleaned_Review'] = df['Translated_Noother'].apply(\n",
    "    lambda x: \" \".join(Word(word).lemmatize() for word in x.split()))"
   ]
  },
  {
   "cell_type": "code",
   "execution_count": 52,
   "id": "9b1d275f-6e6e-4833-ba5b-2d94f076b219",
   "metadata": {},
   "outputs": [
    {
     "data": {
      "text/html": [
       "<div>\n",
       "<style scoped>\n",
       "    .dataframe tbody tr th:only-of-type {\n",
       "        vertical-align: middle;\n",
       "    }\n",
       "\n",
       "    .dataframe tbody tr th {\n",
       "        vertical-align: top;\n",
       "    }\n",
       "\n",
       "    .dataframe thead th {\n",
       "        text-align: right;\n",
       "    }\n",
       "</style>\n",
       "<table border=\"1\" class=\"dataframe\">\n",
       "  <thead>\n",
       "    <tr style=\"text-align: right;\">\n",
       "      <th></th>\n",
       "      <th>Review</th>\n",
       "      <th>Language</th>\n",
       "      <th>Translated</th>\n",
       "      <th>Word_Count</th>\n",
       "      <th>Char_Count</th>\n",
       "      <th>Stop-Words</th>\n",
       "      <th>Translated_Lower</th>\n",
       "      <th>Translated_Nopunc</th>\n",
       "      <th>Translated_Nostop</th>\n",
       "      <th>Translated_Noother</th>\n",
       "      <th>CLeaned_Review</th>\n",
       "      <th>Cleaned_Review</th>\n",
       "    </tr>\n",
       "  </thead>\n",
       "  <tbody>\n",
       "    <tr>\n",
       "      <th>0</th>\n",
       "      <td>Top Produkt mit einer sehr gute Qualität</td>\n",
       "      <td>de</td>\n",
       "      <td>Top product with a very good quality</td>\n",
       "      <td>7</td>\n",
       "      <td>36</td>\n",
       "      <td>3</td>\n",
       "      <td>top product with a very good quality</td>\n",
       "      <td>top product with a very good quality</td>\n",
       "      <td>top product good quality</td>\n",
       "      <td>top product good quality</td>\n",
       "      <td>top product good quality</td>\n",
       "      <td>top product good quality</td>\n",
       "    </tr>\n",
       "    <tr>\n",
       "      <th>1</th>\n",
       "      <td>Hallo,Ich hab das Produkt für meinen Rasierhob...</td>\n",
       "      <td>de</td>\n",
       "      <td>Hello,I bought this product for my razor. The ...</td>\n",
       "      <td>107</td>\n",
       "      <td>635</td>\n",
       "      <td>44</td>\n",
       "      <td>hello,i bought this product for my razor. the ...</td>\n",
       "      <td>helloi bought this product for my razor the bl...</td>\n",
       "      <td>helloi bought product razor blades make shavin...</td>\n",
       "      <td>helloi bought product razor blades make shavin...</td>\n",
       "      <td>helloi bought product razor blade make shaving...</td>\n",
       "      <td>helloi bought product razor blade make shaving...</td>\n",
       "    </tr>\n",
       "    <tr>\n",
       "      <th>2</th>\n",
       "      <td>Da ich mich länger mit Rasiermesser und Rasier...</td>\n",
       "      <td>de</td>\n",
       "      <td>Since I've been shaving with a razor and strai...</td>\n",
       "      <td>102</td>\n",
       "      <td>554</td>\n",
       "      <td>45</td>\n",
       "      <td>since i've been shaving with a razor and strai...</td>\n",
       "      <td>since ive been shaving with a razor and straig...</td>\n",
       "      <td>since ive shaving razor straight razor long ti...</td>\n",
       "      <td>since shaving razor straight razor long time a...</td>\n",
       "      <td>since shaving razor straight razor long time a...</td>\n",
       "      <td>since shaving razor straight razor long time a...</td>\n",
       "    </tr>\n",
       "    <tr>\n",
       "      <th>3</th>\n",
       "      <td>Klingen laufen gut und sind scharf für 2 Rasur...</td>\n",
       "      <td>de</td>\n",
       "      <td>Blades run well and are sharp for 2 shaves, th...</td>\n",
       "      <td>22</td>\n",
       "      <td>183</td>\n",
       "      <td>9</td>\n",
       "      <td>blades run well and are sharp for 2 shaves, th...</td>\n",
       "      <td>blades run well and are sharp for 2 shaves the...</td>\n",
       "      <td>blades run well sharp 2 shaves gets tightother...</td>\n",
       "      <td>blades run well sharp shaves gets tightotherwi...</td>\n",
       "      <td>blade run well sharp shave get tightotherwise ...</td>\n",
       "      <td>blade run well sharp shave get tightotherwise ...</td>\n",
       "    </tr>\n",
       "    <tr>\n",
       "      <th>4</th>\n",
       "      <td>Bei mir halten die mindestens 10 Mal wobei die...</td>\n",
       "      <td>de</td>\n",
       "      <td>For me, they last at least 10 times, whereas t...</td>\n",
       "      <td>20</td>\n",
       "      <td>98</td>\n",
       "      <td>7</td>\n",
       "      <td>for me, they last at least 10 times, whereas t...</td>\n",
       "      <td>for me they last at least 10 times whereas the...</td>\n",
       "      <td>last least 10 times whereas brands g w last 3 ...</td>\n",
       "      <td>last least times whereas brands g w last 3 times</td>\n",
       "      <td>last least time whereas brand g w last 3 time</td>\n",
       "      <td>last least time whereas brand g w last 3 time</td>\n",
       "    </tr>\n",
       "  </tbody>\n",
       "</table>\n",
       "</div>"
      ],
      "text/plain": [
       "                                              Review Language  \\\n",
       "0           Top Produkt mit einer sehr gute Qualität       de   \n",
       "1  Hallo,Ich hab das Produkt für meinen Rasierhob...       de   \n",
       "2  Da ich mich länger mit Rasiermesser und Rasier...       de   \n",
       "3  Klingen laufen gut und sind scharf für 2 Rasur...       de   \n",
       "4  Bei mir halten die mindestens 10 Mal wobei die...       de   \n",
       "\n",
       "                                          Translated  Word_Count  Char_Count  \\\n",
       "0               Top product with a very good quality           7          36   \n",
       "1  Hello,I bought this product for my razor. The ...         107         635   \n",
       "2  Since I've been shaving with a razor and strai...         102         554   \n",
       "3  Blades run well and are sharp for 2 shaves, th...          22         183   \n",
       "4  For me, they last at least 10 times, whereas t...          20          98   \n",
       "\n",
       "   Stop-Words                                   Translated_Lower  \\\n",
       "0           3               top product with a very good quality   \n",
       "1          44  hello,i bought this product for my razor. the ...   \n",
       "2          45  since i've been shaving with a razor and strai...   \n",
       "3           9  blades run well and are sharp for 2 shaves, th...   \n",
       "4           7  for me, they last at least 10 times, whereas t...   \n",
       "\n",
       "                                   Translated_Nopunc  \\\n",
       "0               top product with a very good quality   \n",
       "1  helloi bought this product for my razor the bl...   \n",
       "2  since ive been shaving with a razor and straig...   \n",
       "3  blades run well and are sharp for 2 shaves the...   \n",
       "4  for me they last at least 10 times whereas the...   \n",
       "\n",
       "                                   Translated_Nostop  \\\n",
       "0                           top product good quality   \n",
       "1  helloi bought product razor blades make shavin...   \n",
       "2  since ive shaving razor straight razor long ti...   \n",
       "3  blades run well sharp 2 shaves gets tightother...   \n",
       "4  last least 10 times whereas brands g w last 3 ...   \n",
       "\n",
       "                                  Translated_Noother  \\\n",
       "0                           top product good quality   \n",
       "1  helloi bought product razor blades make shavin...   \n",
       "2  since shaving razor straight razor long time a...   \n",
       "3  blades run well sharp shaves gets tightotherwi...   \n",
       "4   last least times whereas brands g w last 3 times   \n",
       "\n",
       "                                      CLeaned_Review  \\\n",
       "0                           top product good quality   \n",
       "1  helloi bought product razor blade make shaving...   \n",
       "2  since shaving razor straight razor long time a...   \n",
       "3  blade run well sharp shave get tightotherwise ...   \n",
       "4      last least time whereas brand g w last 3 time   \n",
       "\n",
       "                                      Cleaned_Review  \n",
       "0                           top product good quality  \n",
       "1  helloi bought product razor blade make shaving...  \n",
       "2  since shaving razor straight razor long time a...  \n",
       "3  blade run well sharp shave get tightotherwise ...  \n",
       "4      last least time whereas brand g w last 3 time  "
      ]
     },
     "execution_count": 52,
     "metadata": {},
     "output_type": "execute_result"
    }
   ],
   "source": [
    "df.head()"
   ]
  },
  {
   "cell_type": "markdown",
   "id": "042c42d8-56a3-43d4-92d6-7c31925f91b1",
   "metadata": {
    "jp-MarkdownHeadingCollapsed": true,
    "tags": []
   },
   "source": [
    "# 5. Sentiment Analysis"
   ]
  },
  {
   "cell_type": "code",
   "execution_count": 46,
   "id": "2a19acfa-7caf-4aa4-b65f-271e032d9e85",
   "metadata": {},
   "outputs": [],
   "source": [
    "from textblob import TextBlob"
   ]
  },
  {
   "cell_type": "code",
   "execution_count": 53,
   "id": "2866c4c0-dc89-4e38-87dd-b42933202d37",
   "metadata": {},
   "outputs": [],
   "source": [
    "df['Polarity'] = df['Cleaned_Review'].apply(lambda x: TextBlob(x).sentiment[0])\n",
    "df['Subjectivity'] = df['Cleaned_Review'].apply(lambda x: TextBlob(x).sentiment[1])"
   ]
  },
  {
   "cell_type": "code",
   "execution_count": 54,
   "id": "0e81be69-748b-49bf-be34-16c41f9f07ce",
   "metadata": {},
   "outputs": [],
   "source": [
    "filtered_df = df[['Translated', 'Polarity', 'Subjectivity']]"
   ]
  },
  {
   "cell_type": "code",
   "execution_count": 55,
   "id": "e67d907d-a2cd-4420-9b78-26c20e647242",
   "metadata": {},
   "outputs": [
    {
     "data": {
      "text/html": [
       "<div>\n",
       "<style scoped>\n",
       "    .dataframe tbody tr th:only-of-type {\n",
       "        vertical-align: middle;\n",
       "    }\n",
       "\n",
       "    .dataframe tbody tr th {\n",
       "        vertical-align: top;\n",
       "    }\n",
       "\n",
       "    .dataframe thead th {\n",
       "        text-align: right;\n",
       "    }\n",
       "</style>\n",
       "<table border=\"1\" class=\"dataframe\">\n",
       "  <thead>\n",
       "    <tr style=\"text-align: right;\">\n",
       "      <th></th>\n",
       "      <th>Translated</th>\n",
       "      <th>Polarity</th>\n",
       "      <th>Subjectivity</th>\n",
       "    </tr>\n",
       "  </thead>\n",
       "  <tbody>\n",
       "    <tr>\n",
       "      <th>0</th>\n",
       "      <td>Top product with a very good quality</td>\n",
       "      <td>0.600000</td>\n",
       "      <td>0.550000</td>\n",
       "    </tr>\n",
       "    <tr>\n",
       "      <th>1</th>\n",
       "      <td>Hello,I bought this product for my razor. The ...</td>\n",
       "      <td>0.094444</td>\n",
       "      <td>0.576389</td>\n",
       "    </tr>\n",
       "    <tr>\n",
       "      <th>2</th>\n",
       "      <td>Since I've been shaving with a razor and strai...</td>\n",
       "      <td>0.195192</td>\n",
       "      <td>0.529808</td>\n",
       "    </tr>\n",
       "    <tr>\n",
       "      <th>3</th>\n",
       "      <td>Blades run well and are sharp for 2 shaves, th...</td>\n",
       "      <td>-0.062500</td>\n",
       "      <td>0.375000</td>\n",
       "    </tr>\n",
       "    <tr>\n",
       "      <th>4</th>\n",
       "      <td>For me, they last at least 10 times, whereas t...</td>\n",
       "      <td>-0.100000</td>\n",
       "      <td>0.177778</td>\n",
       "    </tr>\n",
       "  </tbody>\n",
       "</table>\n",
       "</div>"
      ],
      "text/plain": [
       "                                          Translated  Polarity  Subjectivity\n",
       "0               Top product with a very good quality  0.600000      0.550000\n",
       "1  Hello,I bought this product for my razor. The ...  0.094444      0.576389\n",
       "2  Since I've been shaving with a razor and strai...  0.195192      0.529808\n",
       "3  Blades run well and are sharp for 2 shaves, th... -0.062500      0.375000\n",
       "4  For me, they last at least 10 times, whereas t... -0.100000      0.177778"
      ]
     },
     "execution_count": 55,
     "metadata": {},
     "output_type": "execute_result"
    }
   ],
   "source": [
    "filtered_df.head()"
   ]
  },
  {
   "cell_type": "code",
   "execution_count": 56,
   "id": "62426802-6490-41a6-b4de-dc3d8db9e300",
   "metadata": {},
   "outputs": [
    {
     "data": {
      "text/plain": [
       "1.0"
      ]
     },
     "execution_count": 56,
     "metadata": {},
     "output_type": "execute_result"
    }
   ],
   "source": [
    "filtered_df['Polarity'].max()"
   ]
  },
  {
   "cell_type": "code",
   "execution_count": 63,
   "id": "6791c659-f4b5-458a-a20e-d0a7f853ef94",
   "metadata": {},
   "outputs": [
    {
     "name": "stdout",
     "output_type": "stream",
     "text": [
      "Excellent quality.\n"
     ]
    }
   ],
   "source": [
    "print(filtered_df[filtered_df['Polarity']==1].iloc[3]['Translated'])"
   ]
  },
  {
   "cell_type": "code",
   "execution_count": 64,
   "id": "c4a1918b-c955-40a7-a4ab-adc5405af009",
   "metadata": {},
   "outputs": [
    {
     "data": {
      "text/plain": [
       "-0.6999999999999998"
      ]
     },
     "execution_count": 64,
     "metadata": {},
     "output_type": "execute_result"
    }
   ],
   "source": [
    "filtered_df['Polarity'].min()"
   ]
  },
  {
   "cell_type": "code",
   "execution_count": 72,
   "id": "db478ec2-4acc-49f3-baaf-56c062dbf0fb",
   "metadata": {},
   "outputs": [
    {
     "data": {
      "text/plain": [
       "'The photo is deceptive! There are 10 blades!!This is very unfair!'"
      ]
     },
     "execution_count": 72,
     "metadata": {},
     "output_type": "execute_result"
    }
   ],
   "source": [
    "filtered_df[filtered_df['Polarity']<=-0.5].iloc[2]['Translated']"
   ]
  },
  {
   "cell_type": "code",
   "execution_count": 73,
   "id": "5e24e5d3-93a6-482a-b105-521c04ad78e2",
   "metadata": {},
   "outputs": [],
   "source": [
    "df.to_csv('Data/Amazon-Sentiment.csv')"
   ]
  }
 ],
 "metadata": {
  "kernelspec": {
   "display_name": "sentiment_analysis",
   "language": "python",
   "name": "sentiment_analysis"
  },
  "language_info": {
   "codemirror_mode": {
    "name": "ipython",
    "version": 3
   },
   "file_extension": ".py",
   "mimetype": "text/x-python",
   "name": "python",
   "nbconvert_exporter": "python",
   "pygments_lexer": "ipython3",
   "version": "3.10.0"
  }
 },
 "nbformat": 4,
 "nbformat_minor": 5
}
