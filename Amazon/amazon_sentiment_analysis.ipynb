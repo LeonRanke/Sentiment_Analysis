{
 "cells": [
  {
   "cell_type": "markdown",
   "id": "0024d519-d810-4fd1-95eb-2712e9095427",
   "metadata": {
    "tags": []
   },
   "source": [
    "# 1. Get Reviews from Amazon"
   ]
  },
  {
   "cell_type": "markdown",
   "id": "9ff9e344-b663-4ebe-9300-29cf9affc0e4",
   "metadata": {
    "tags": []
   },
   "source": [
    "## 1.1 Set up Beautiful Soup and Requests"
   ]
  },
  {
   "cell_type": "code",
   "execution_count": 1,
   "id": "40faf52e-f899-40d1-88a5-899e9aa4d1f1",
   "metadata": {
    "collapsed": true,
    "jupyter": {
     "outputs_hidden": true
    },
    "tags": []
   },
   "outputs": [
    {
     "name": "stdout",
     "output_type": "stream",
     "text": [
      "Collecting requests-html\n",
      "  Downloading requests_html-0.10.0-py3-none-any.whl (13 kB)\n",
      "Collecting fake-useragent\n",
      "  Downloading fake_useragent-1.1.3-py3-none-any.whl (50 kB)\n",
      "     ---------------------------------------- 0.0/50.5 kB ? eta -:--:--\n",
      "     ---------------------------------------- 50.5/50.5 kB ? eta 0:00:00\n",
      "Collecting bs4\n",
      "  Downloading bs4-0.0.1.tar.gz (1.1 kB)\n",
      "  Preparing metadata (setup.py): started\n",
      "  Preparing metadata (setup.py): finished with status 'done'\n",
      "Collecting parse\n",
      "  Downloading parse-1.19.0.tar.gz (30 kB)\n",
      "  Preparing metadata (setup.py): started\n",
      "  Preparing metadata (setup.py): finished with status 'done'\n",
      "Requirement already satisfied: requests in c:\\users\\leonr\\desktop\\git\\coursesfromnick\\sentiment_analysis\\sentiment_analysis\\lib\\site-packages (from requests-html) (2.28.2)\n",
      "Collecting pyppeteer>=0.0.14\n",
      "  Downloading pyppeteer-1.0.2-py3-none-any.whl (83 kB)\n",
      "     ---------------------------------------- 0.0/83.4 kB ? eta -:--:--\n",
      "     ---------------------------------------- 83.4/83.4 kB ? eta 0:00:00\n",
      "Collecting w3lib\n",
      "  Downloading w3lib-2.1.1-py3-none-any.whl (21 kB)\n",
      "Collecting pyquery\n",
      "  Downloading pyquery-2.0.0-py3-none-any.whl (22 kB)\n",
      "Requirement already satisfied: certifi>=2021 in c:\\users\\leonr\\desktop\\git\\coursesfromnick\\sentiment_analysis\\sentiment_analysis\\lib\\site-packages (from pyppeteer>=0.0.14->requests-html) (2022.12.7)\n",
      "Collecting importlib-metadata>=1.4\n",
      "  Downloading importlib_metadata-6.3.0-py3-none-any.whl (22 kB)\n",
      "Collecting pyee<9.0.0,>=8.1.0\n",
      "  Downloading pyee-8.2.2-py2.py3-none-any.whl (12 kB)\n",
      "Collecting websockets<11.0,>=10.0\n",
      "  Downloading websockets-10.4-cp310-cp310-win_amd64.whl (101 kB)\n",
      "     ---------------------------------------- 0.0/101.4 kB ? eta -:--:--\n",
      "     ---------------------------------------- 101.4/101.4 kB ? eta 0:00:00\n",
      "Requirement already satisfied: urllib3<2.0.0,>=1.25.8 in c:\\users\\leonr\\desktop\\git\\coursesfromnick\\sentiment_analysis\\sentiment_analysis\\lib\\site-packages (from pyppeteer>=0.0.14->requests-html) (1.26.14)\n",
      "Requirement already satisfied: tqdm<5.0.0,>=4.42.1 in c:\\users\\leonr\\desktop\\git\\coursesfromnick\\sentiment_analysis\\sentiment_analysis\\lib\\site-packages (from pyppeteer>=0.0.14->requests-html) (4.64.1)\n",
      "Collecting appdirs<2.0.0,>=1.4.3\n",
      "  Downloading appdirs-1.4.4-py2.py3-none-any.whl (9.6 kB)\n",
      "Requirement already satisfied: beautifulsoup4 in c:\\users\\leonr\\desktop\\git\\coursesfromnick\\sentiment_analysis\\sentiment_analysis\\lib\\site-packages (from bs4->requests-html) (4.11.2)\n",
      "Collecting lxml>=2.1\n",
      "  Using cached lxml-4.9.2-cp310-cp310-win_amd64.whl (3.8 MB)\n",
      "Collecting cssselect>=1.2.0\n",
      "  Downloading cssselect-1.2.0-py2.py3-none-any.whl (18 kB)\n",
      "Requirement already satisfied: charset-normalizer<4,>=2 in c:\\users\\leonr\\desktop\\git\\coursesfromnick\\sentiment_analysis\\sentiment_analysis\\lib\\site-packages (from requests->requests-html) (3.0.1)\n",
      "Requirement already satisfied: idna<4,>=2.5 in c:\\users\\leonr\\desktop\\git\\coursesfromnick\\sentiment_analysis\\sentiment_analysis\\lib\\site-packages (from requests->requests-html) (3.4)\n",
      "Collecting zipp>=0.5\n",
      "  Using cached zipp-3.15.0-py3-none-any.whl (6.8 kB)\n",
      "Requirement already satisfied: colorama in c:\\users\\leonr\\desktop\\git\\coursesfromnick\\sentiment_analysis\\sentiment_analysis\\lib\\site-packages (from tqdm<5.0.0,>=4.42.1->pyppeteer>=0.0.14->requests-html) (0.4.6)\n",
      "Requirement already satisfied: soupsieve>1.2 in c:\\users\\leonr\\desktop\\git\\coursesfromnick\\sentiment_analysis\\sentiment_analysis\\lib\\site-packages (from beautifulsoup4->bs4->requests-html) (2.3.2.post1)\n",
      "Installing collected packages: pyee, parse, fake-useragent, appdirs, zipp, websockets, w3lib, lxml, cssselect, pyquery, importlib-metadata, bs4, pyppeteer, requests-html\n",
      "  Running setup.py install for parse: started\n",
      "  Running setup.py install for parse: finished with status 'done'\n",
      "  Running setup.py install for bs4: started\n",
      "  Running setup.py install for bs4: finished with status 'done'\n",
      "Successfully installed appdirs-1.4.4 bs4-0.0.1 cssselect-1.2.0 fake-useragent-1.1.3 importlib-metadata-6.3.0 lxml-4.9.2 parse-1.19.0 pyee-8.2.2 pyppeteer-1.0.2 pyquery-2.0.0 requests-html-0.10.0 w3lib-2.1.1 websockets-10.4 zipp-3.15.0\n"
     ]
    },
    {
     "name": "stderr",
     "output_type": "stream",
     "text": [
      "  DEPRECATION: parse is being installed using the legacy 'setup.py install' method, because it does not have a 'pyproject.toml' and the 'wheel' package is not installed. pip 23.1 will enforce this behaviour change. A possible replacement is to enable the '--use-pep517' option. Discussion can be found at https://github.com/pypa/pip/issues/8559\n",
      "  DEPRECATION: bs4 is being installed using the legacy 'setup.py install' method, because it does not have a 'pyproject.toml' and the 'wheel' package is not installed. pip 23.1 will enforce this behaviour change. A possible replacement is to enable the '--use-pep517' option. Discussion can be found at https://github.com/pypa/pip/issues/8559\n",
      "\n",
      "[notice] A new release of pip is available: 23.0 -> 23.0.1\n",
      "[notice] To update, run: python.exe -m pip install --upgrade pip\n"
     ]
    }
   ],
   "source": [
    "!pip install requests-html"
   ]
  },
  {
   "cell_type": "code",
   "execution_count": 1,
   "id": "5b926e3c-f577-4c3e-a7b9-74a99c22cff6",
   "metadata": {},
   "outputs": [],
   "source": [
    "import requests\n",
    "from requests_html import HTMLSession\n",
    "from bs4 import BeautifulSoup\n",
    "import re\n",
    "import time"
   ]
  },
  {
   "cell_type": "code",
   "execution_count": 3,
   "id": "3e3034ec-a0d7-41ee-9669-5ccb7122aeba",
   "metadata": {},
   "outputs": [],
   "source": [
    "class Reviews:\n",
    "    def __init__(self, asin, hedders) -> None:\n",
    "        self.asin = asin\n",
    "        self.session = HTMLSession()\n",
    "        self.headers = hedders\n",
    "        self.url = f'https://www.amazon.co.uk/product-reviews/{self.asin}/ref=cm_cr_dp_d_show_all_btm?ie=UTF8&reviewerType=all_reviews&sortBy=recent&pageNumber='\n",
    "        \n",
    "    def pagination(self, page):\n",
    "        r = self.session.get(self.url + str(page))\n",
    "        if not r.html.find('div[data-hook=review]'):\n",
    "            return False\n",
    "        else:\n",
    "            return r.html.find('div[data-hook=review]')\n",
    "        \n",
    "    def parse(self, reviews):\n",
    "        total = []\n",
    "        for review in reviews:\n",
    "            title = review.find('a[data-hook=review-title]', first=True).text\n",
    "            rating = review.find('i[data-hook=review-star-rating] span', first=True).text\n",
    "            body = review.find('span[data-hook=review-body]', first=True).text.replace('\\n', '').strip()\n",
    "            \n",
    "            data = {\n",
    "                'title': title,\n",
    "                'rating': rating,\n",
    "                'body': body\n",
    "            }\n",
    "            total.append(data)\n",
    "        return total"
   ]
  },
  {
   "cell_type": "code",
   "execution_count": 4,
   "id": "796ef39c-ef1d-4aed-a713-84c8c9cf8c7e",
   "metadata": {},
   "outputs": [
    {
     "name": "stdout",
     "output_type": "stream",
     "text": [
      "No more pages\n"
     ]
    }
   ],
   "source": [
    "amz = Reviews('B0779B2K8B', HEDDERS)\n",
    "results = []\n",
    "for x in range(1, 5):\n",
    "    reviews = amz.pagination(x)\n",
    "    if reviews is not False:\n",
    "        print(f'Getting Page {x}')\n",
    "        time.sleep(0.3)\n",
    "        results.append(amz.parse(reviews))\n",
    "    else:\n",
    "        print('No more pages')\n",
    "        break"
   ]
  },
  {
   "cell_type": "code",
   "execution_count": 8,
   "id": "bfb0eb49-cba4-4f16-86ba-51f58ebdb3c8",
   "metadata": {
    "tags": []
   },
   "outputs": [],
   "source": [
    "# Set up hedder to Scrape Amazon\n",
    "HEADERS = ({'User-Agent':\n",
    "            'Mozilla/5.0 (Windows NT 10.0; Win64; x64) \\\n",
    "            AppleWebKit/537.36 (KHTML, like Gecko) \\\n",
    "            Chrome/90.0.4430.212 Safari/537.36',\n",
    "            'Accept-Language': 'en-US, en;q=0.5'})"
   ]
  },
  {
   "cell_type": "code",
   "execution_count": 24,
   "id": "36f6c3c3-e2ad-4f37-a328-f74eba41d0d8",
   "metadata": {},
   "outputs": [],
   "source": [
    "HEADERS = {\"Accept\": \"text/html,application/xhtml+xml,application/xml;q=0.9,image/avif,image/webp,image/apng,*/*;q=0.8,application/signed-exchange;v=b3;q=0.7\", \n",
    "           \"Accept-Encoding\": \"gzip, deflate\", \n",
    "           \"Dnt\": \"1\", \n",
    "           \"Sec-Gpc\": \"1\", \n",
    "           \"Upgrade-Insecure-Requests\": \"1\", \n",
    "           \"User-Agent\": \"Mozilla/5.0 (Windows NT 10.0; Win64; x64) AppleWebKit/537.36 (KHTML, like Gecko) Chrome/112.0.0.0 Safari/537.36\", \n",
    "           \"X-Amzn-Trace-Id\": \"Root=1-643fd868-3ca2c6ce01ed0a2f34795b57\"}"
   ]
  },
  {
   "cell_type": "markdown",
   "id": "c5b5b5ca-dd0c-4d6e-8403-f260b4b14f3e",
   "metadata": {
    "tags": []
   },
   "source": [
    "## 1.2 Convert Text to Soup"
   ]
  },
  {
   "cell_type": "code",
   "execution_count": 25,
   "id": "34eb05de-6ca1-4716-a2aa-42109c17ea92",
   "metadata": {},
   "outputs": [],
   "source": [
    "link = \"https://www.amazon.in/Fire-TV-Stick-Alexa-Voice-Remote-3rd-Gen/product-reviews/B08R6QR863/ref=cm_cr_getr_d_paging_btm_next_2?ie=UTF8&reviewerType=all_reviews&pageNumber=2\""
   ]
  },
  {
   "cell_type": "code",
   "execution_count": 26,
   "id": "ec27b64e-5ae5-43b5-8721-87e8acf1de54",
   "metadata": {},
   "outputs": [],
   "source": [
    "html = requests.get(link, headers=HEADERS)"
   ]
  },
  {
   "cell_type": "code",
   "execution_count": 27,
   "id": "0c983fcd-ac6d-4d36-8582-fc69ac9c540b",
   "metadata": {
    "tags": []
   },
   "outputs": [],
   "source": [
    "# Create Soup object from html Data\n",
    "soup = BeautifulSoup(html.text, 'html.parser')"
   ]
  },
  {
   "cell_type": "code",
   "execution_count": 16,
   "id": "a8f902d7-b938-4134-a779-45ef2acadc1a",
   "metadata": {},
   "outputs": [],
   "source": [
    "with open(\"example.html\", 'w', encoding=\"utf-8\") as f:\n",
    "    f.write(str(html))"
   ]
  },
  {
   "cell_type": "code",
   "execution_count": 33,
   "id": "6cb79a4f-9413-43c6-aabd-8c7f7aad03b8",
   "metadata": {
    "scrolled": true,
    "tags": []
   },
   "outputs": [
    {
     "name": "stdout",
     "output_type": "stream",
     "text": [
      "10\n"
     ]
    }
   ],
   "source": [
    "# Find user reviews in the data\n",
    "results = soup.find_all('span', {'data-hook': 'review-body'})\n",
    "print(len(results))"
   ]
  },
  {
   "cell_type": "markdown",
   "id": "dcf539e4-21f4-4165-b416-449fe7779ed1",
   "metadata": {
    "tags": []
   },
   "source": [
    "## 1.3 Scraping Multible Pages"
   ]
  },
  {
   "cell_type": "code",
   "execution_count": 40,
   "id": "a88e3e4b-83d9-4620-ac6e-56a677c30954",
   "metadata": {},
   "outputs": [],
   "source": [
    "link = \"https://www.amazon.in/Fire-TV-Stick-Alexa-Voice-Remote-3rd-Gen/product-reviews/B08R6QR863/ref=cm_cr_getr_d_paging_btm_next_2?ie=UTF8&reviewerType=all_reviews\""
   ]
  },
  {
   "cell_type": "code",
   "execution_count": 41,
   "id": "9f9bba0c-7eb4-4496-9225-589d853d5ba0",
   "metadata": {},
   "outputs": [],
   "source": [
    "# Construct list of links to scrape multiple pages\n",
    "links = []\n",
    "for x in range(1,5):\n",
    "    links.append(link + '&pageNumber=' + str(x))"
   ]
  },
  {
   "cell_type": "code",
   "execution_count": 42,
   "id": "e8a086d9-345f-4d61-9b6e-541df8607613",
   "metadata": {},
   "outputs": [
    {
     "name": "stdout",
     "output_type": "stream",
     "text": [
      "https://www.amazon.in/Fire-TV-Stick-Alexa-Voice-Remote-3rd-Gen/product-reviews/B08R6QR863/ref=cm_cr_getr_d_paging_btm_next_2?ie=UTF8&reviewerType=all_reviews&pageNumber=1\n",
      "https://www.amazon.in/Fire-TV-Stick-Alexa-Voice-Remote-3rd-Gen/product-reviews/B08R6QR863/ref=cm_cr_getr_d_paging_btm_next_2?ie=UTF8&reviewerType=all_reviews&pageNumber=2\n",
      "https://www.amazon.in/Fire-TV-Stick-Alexa-Voice-Remote-3rd-Gen/product-reviews/B08R6QR863/ref=cm_cr_getr_d_paging_btm_next_2?ie=UTF8&reviewerType=all_reviews&pageNumber=3\n",
      "https://www.amazon.in/Fire-TV-Stick-Alexa-Voice-Remote-3rd-Gen/product-reviews/B08R6QR863/ref=cm_cr_getr_d_paging_btm_next_2?ie=UTF8&reviewerType=all_reviews&pageNumber=4\n"
     ]
    }
   ],
   "source": [
    "for link in links:\n",
    "    print(link)"
   ]
  },
  {
   "cell_type": "code",
   "execution_count": 43,
   "id": "92d2b501-a911-4561-ad01-fe7cee043841",
   "metadata": {},
   "outputs": [
    {
     "name": "stdout",
     "output_type": "stream",
     "text": [
      "10\n",
      "10\n",
      "10\n",
      "10\n"
     ]
    }
   ],
   "source": [
    "# Scrape all links in the constructed list\n",
    "reviews = []\n",
    "for link in links:\n",
    "    html = requests.get(link, headers=HEADERS)\n",
    "    if html.status_code == 200:\n",
    "        # HTML response was sucssesfull\n",
    "        soup = BeautifulSoup(html.text, 'html.parser')\n",
    "        results = soup.find_all('span', {'data-hook': 'review-body'})\n",
    "        print(len(results))\n",
    "        for review in results:\n",
    "            reviews.append(review.text.replace('\\n', ''))\n",
    "    else:\n",
    "        # HTML response was unsuccsessfull\n",
    "        print('[BAD HTML RESPONSE] Response Code =', html.status_code)"
   ]
  },
  {
   "cell_type": "markdown",
   "id": "e19770da-2104-4d58-9c9d-9849d0a2c440",
   "metadata": {
    "tags": []
   },
   "source": [
    "# 2. Translate Reviews"
   ]
  },
  {
   "cell_type": "markdown",
   "id": "e3da78a8-1450-46a9-ae20-aa0746de60c9",
   "metadata": {
    "tags": []
   },
   "source": [
    "## 2.1 Determine Language of Reviews"
   ]
  },
  {
   "cell_type": "code",
   "execution_count": 171,
   "id": "ec2ad575-7665-4242-9cc6-39192181fb7f",
   "metadata": {
    "collapsed": true,
    "jupyter": {
     "outputs_hidden": true
    },
    "tags": []
   },
   "outputs": [
    {
     "name": "stdout",
     "output_type": "stream",
     "text": [
      "Requirement already satisfied: detectlanguage in c:\\users\\leonr\\desktop\\git\\coursesfromnick\\sentiment_analysis\\sentiment_analysis\\lib\\site-packages (1.5.0)\n",
      "Collecting pandas\n",
      "  Using cached pandas-1.5.3-cp310-cp310-win_amd64.whl (10.4 MB)\n",
      "Requirement already satisfied: requests>=2.4.2 in c:\\users\\leonr\\desktop\\git\\coursesfromnick\\sentiment_analysis\\sentiment_analysis\\lib\\site-packages (from detectlanguage) (2.28.2)\n",
      "Requirement already satisfied: python-dateutil>=2.8.1 in c:\\users\\leonr\\desktop\\git\\coursesfromnick\\sentiment_analysis\\sentiment_analysis\\lib\\site-packages (from pandas) (2.8.2)\n",
      "Collecting numpy>=1.21.0\n",
      "  Using cached numpy-1.24.1-cp310-cp310-win_amd64.whl (14.8 MB)\n",
      "Collecting pytz>=2020.1\n",
      "  Using cached pytz-2022.7.1-py2.py3-none-any.whl (499 kB)\n",
      "Requirement already satisfied: six>=1.5 in c:\\users\\leonr\\desktop\\git\\coursesfromnick\\sentiment_analysis\\sentiment_analysis\\lib\\site-packages (from python-dateutil>=2.8.1->pandas) (1.16.0)\n",
      "Requirement already satisfied: urllib3<1.27,>=1.21.1 in c:\\users\\leonr\\desktop\\git\\coursesfromnick\\sentiment_analysis\\sentiment_analysis\\lib\\site-packages (from requests>=2.4.2->detectlanguage) (1.26.14)\n",
      "Requirement already satisfied: idna<4,>=2.5 in c:\\users\\leonr\\desktop\\git\\coursesfromnick\\sentiment_analysis\\sentiment_analysis\\lib\\site-packages (from requests>=2.4.2->detectlanguage) (3.4)\n",
      "Requirement already satisfied: charset-normalizer<4,>=2 in c:\\users\\leonr\\desktop\\git\\coursesfromnick\\sentiment_analysis\\sentiment_analysis\\lib\\site-packages (from requests>=2.4.2->detectlanguage) (3.0.1)\n",
      "Requirement already satisfied: certifi>=2017.4.17 in c:\\users\\leonr\\desktop\\git\\coursesfromnick\\sentiment_analysis\\sentiment_analysis\\lib\\site-packages (from requests>=2.4.2->detectlanguage) (2022.12.7)\n",
      "Installing collected packages: pytz, numpy, pandas\n",
      "Successfully installed numpy-1.24.1 pandas-1.5.3 pytz-2022.7.1\n"
     ]
    }
   ],
   "source": [
    "!pip install detectlanguage pandas"
   ]
  },
  {
   "cell_type": "code",
   "execution_count": 93,
   "id": "d93928d4-d242-4814-973d-ac5a861cbc4a",
   "metadata": {},
   "outputs": [],
   "source": [
    "import detectlanguage\n",
    "import pandas as pd"
   ]
  },
  {
   "cell_type": "code",
   "execution_count": 94,
   "id": "d126f060-89c9-4a6b-aa5f-a32c290a3d17",
   "metadata": {},
   "outputs": [],
   "source": [
    "# Setup the API key\n",
    "detectlanguage.configuration.api_key = \"Secret\""
   ]
  },
  {
   "cell_type": "code",
   "execution_count": 96,
   "id": "c949f21c-cd7f-4175-b869-a07933cf13de",
   "metadata": {},
   "outputs": [
    {
     "name": "stdout",
     "output_type": "stream",
     "text": [
      "Ich hab das Set 3 mal bekommen . Das erste war nach 5 Monaten hinüber, das zweite nach einem Tag und das letzte nach 1Std. Jetzt war es mir zu doof die 3te Maschine auch wieder zurück zu senden, habe deshalb das Teil was defekt war im Internet bestellt und von Amazon eine Gutschrift bekommen. Trotz allem, ist man von Makita besseres Gewohnt. Hab noch eine Akkuflex gekauft mal sehen wie lange diese hält. Info kommt. | de\n"
     ]
    }
   ],
   "source": [
    "# Test API to detect languages\n",
    "review = reviews[10]\n",
    "language = detectlanguage.detect(review)\n",
    "print(review, '|' ,language[0]['language'])"
   ]
  },
  {
   "cell_type": "code",
   "execution_count": 112,
   "id": "bee419cd-f9e6-456c-983b-2d1f5611e701",
   "metadata": {},
   "outputs": [],
   "source": [
    "regrex_pattern = re.compile(pattern = \"[\"\n",
    "        u\"\\U0001F600-\\U0001F64F\"  # emoticons\n",
    "        u\"\\U0001F300-\\U0001F5FF\"  # symbols & pictographs\n",
    "        u\"\\U0001F680-\\U0001F6FF\"  # transport & map symbols\n",
    "        u\"\\U0001F1E0-\\U0001F1FF\"  # flags (iOS)\n",
    "                           \"]+\", flags = re.UNICODE)"
   ]
  },
  {
   "cell_type": "code",
   "execution_count": 130,
   "id": "3d4d3e51-ce36-4354-8eb6-b7d056d9a96d",
   "metadata": {},
   "outputs": [
    {
     "data": {
      "text/plain": [
       "'Habe diesen Akku Schrauber als Geschenk zu Weihnachten gekauft.Nach Erhalt habe ich ihn natürlich gleich geöffnet, da in anderen Rezensionen zu lesen war, das einige Teile fehlten....und siehe da...auch bei meiner Bestellung fehlten 2 Bohrer ...welches mir unbegreiflich ist...da ja alles verpackt ist. Habe dann versucht bei Makita an zu rufen...da warte ich immer noch auf einen Rückruf....und habe auch versucht schriftlich etwas zu erreichen.....schade....hat auch nicht funktioniert. Es sind ja nur 2 fehlende Bohrer...aber für den Preis kann man schon erwarten, das das Zubehöhr vollständig dabei ist. War schon enttäuscht und finde es traurig das Makita es nicht  nötig hat, zu mindestens zurück zu rufen.'"
      ]
     },
     "execution_count": 130,
     "metadata": {},
     "output_type": "execute_result"
    }
   ],
   "source": [
    "reviews[83]"
   ]
  },
  {
   "cell_type": "code",
   "execution_count": 125,
   "id": "5b6a7219-ee44-4f3d-af98-ab057cfc2107",
   "metadata": {},
   "outputs": [],
   "source": [
    "filterd_reviews = []\n",
    "for idx, review in enumerate(reviews):\n",
    "    temp = regrex_pattern.sub(r'', review)\n",
    "    if temp == '':\n",
    "        pass\n",
    "    else:\n",
    "        filterd_reviews.append(temp)"
   ]
  },
  {
   "cell_type": "code",
   "execution_count": 131,
   "id": "24a02540-1611-4465-a03e-865a05672786",
   "metadata": {},
   "outputs": [
    {
     "data": {
      "text/plain": [
       "'Habe diesen Akku Schrauber als Geschenk zu Weihnachten gekauft.Nach Erhalt habe ich ihn natürlich gleich geöffnet, da in anderen Rezensionen zu lesen war, das einige Teile fehlten....und siehe da...auch bei meiner Bestellung fehlten 2 Bohrer ...welches mir unbegreiflich ist...da ja alles verpackt ist. Habe dann versucht bei Makita an zu rufen...da warte ich immer noch auf einen Rückruf....und habe auch versucht schriftlich etwas zu erreichen.....schade....hat auch nicht funktioniert. Es sind ja nur 2 fehlende Bohrer...aber für den Preis kann man schon erwarten, das das Zubehöhr vollständig dabei ist. War schon enttäuscht und finde es traurig das Makita es nicht  nötig hat, zu mindestens zurück zu rufen.'"
      ]
     },
     "execution_count": 131,
     "metadata": {},
     "output_type": "execute_result"
    }
   ],
   "source": [
    "filterd_reviews[82]"
   ]
  },
  {
   "cell_type": "code",
   "execution_count": 132,
   "id": "bd81d30c-0353-40a4-995b-29b1009f072d",
   "metadata": {},
   "outputs": [],
   "source": [
    "# Detect languges of all reviews\n",
    "languages = []\n",
    "for review in filterd_reviews:\n",
    "    language = detectlanguage.detect(review)\n",
    "    languages.append(language[0]['language'])"
   ]
  },
  {
   "cell_type": "code",
   "execution_count": 133,
   "id": "b0e0fa92-5b4d-44bb-a797-968d176265be",
   "metadata": {},
   "outputs": [
    {
     "data": {
      "text/plain": [
       "829"
      ]
     },
     "execution_count": 133,
     "metadata": {},
     "output_type": "execute_result"
    }
   ],
   "source": [
    "len(languages)"
   ]
  },
  {
   "cell_type": "code",
   "execution_count": 134,
   "id": "04b9717d-47c6-4e3b-974f-cb8ebd766a24",
   "metadata": {},
   "outputs": [],
   "source": [
    "# Construct Data frame containing review and Language\n",
    "df = pd.DataFrame({'Review': filterd_reviews, 'Language': languages})"
   ]
  },
  {
   "cell_type": "code",
   "execution_count": 135,
   "id": "5a8645ce-7663-4ad8-bb78-fd540bbae779",
   "metadata": {},
   "outputs": [
    {
     "data": {
      "text/plain": [
       "de    402\n",
       "en    277\n",
       "fr     70\n",
       "it     46\n",
       "es     20\n",
       "nl      4\n",
       "da      2\n",
       "pl      2\n",
       "et      2\n",
       "pt      2\n",
       "ie      1\n",
       "sr      1\n",
       "Name: Language, dtype: int64"
      ]
     },
     "execution_count": 135,
     "metadata": {},
     "output_type": "execute_result"
    }
   ],
   "source": [
    "df['Language'].value_counts()"
   ]
  },
  {
   "cell_type": "code",
   "execution_count": 136,
   "id": "5e787b25-64d3-45ad-b3c6-d2f95b2d7b60",
   "metadata": {},
   "outputs": [],
   "source": [
    "# Save df as csv\n",
    "df.to_csv('Data/Reviews.csv')"
   ]
  },
  {
   "cell_type": "markdown",
   "id": "027a6b46-99ad-4e85-897a-093d27ad5fa8",
   "metadata": {
    "tags": []
   },
   "source": [
    "## 2.2 Translate reviews"
   ]
  },
  {
   "cell_type": "code",
   "execution_count": 31,
   "id": "2a051d74-5df9-4624-b51f-714085de3650",
   "metadata": {
    "collapsed": true,
    "jupyter": {
     "outputs_hidden": true
    },
    "tags": []
   },
   "outputs": [
    {
     "name": "stdout",
     "output_type": "stream",
     "text": [
      "Collecting deepl\n",
      "  Downloading deepl-1.13.0-py3-none-any.whl (37 kB)\n",
      "Requirement already satisfied: requests<3,>=2 in c:\\users\\leonr\\desktop\\git\\coursesfromnick\\sentiment_analysis\\sentiment_analysis\\lib\\site-packages (from deepl) (2.28.2)\n",
      "Requirement already satisfied: charset-normalizer<4,>=2 in c:\\users\\leonr\\desktop\\git\\coursesfromnick\\sentiment_analysis\\sentiment_analysis\\lib\\site-packages (from requests<3,>=2->deepl) (3.0.1)\n",
      "Requirement already satisfied: idna<4,>=2.5 in c:\\users\\leonr\\desktop\\git\\coursesfromnick\\sentiment_analysis\\sentiment_analysis\\lib\\site-packages (from requests<3,>=2->deepl) (3.4)\n",
      "Requirement already satisfied: certifi>=2017.4.17 in c:\\users\\leonr\\desktop\\git\\coursesfromnick\\sentiment_analysis\\sentiment_analysis\\lib\\site-packages (from requests<3,>=2->deepl) (2022.12.7)\n",
      "Requirement already satisfied: urllib3<1.27,>=1.21.1 in c:\\users\\leonr\\desktop\\git\\coursesfromnick\\sentiment_analysis\\sentiment_analysis\\lib\\site-packages (from requests<3,>=2->deepl) (1.26.14)\n",
      "Installing collected packages: deepl\n",
      "Successfully installed deepl-1.13.0\n"
     ]
    }
   ],
   "source": [
    "!pip install deepl"
   ]
  },
  {
   "cell_type": "code",
   "execution_count": 2,
   "id": "4632788c-cc06-41bd-935f-e6c41982c7be",
   "metadata": {},
   "outputs": [],
   "source": [
    "import deepl\n",
    "import pandas as pd"
   ]
  },
  {
   "cell_type": "code",
   "execution_count": 11,
   "id": "735c836f-6c71-45c6-a7b9-dfebe5d70cb7",
   "metadata": {},
   "outputs": [],
   "source": [
    "# Read csv\n",
    "df = pd.read_csv('Data/Reviews.csv', index_col=0)"
   ]
  },
  {
   "cell_type": "code",
   "execution_count": 12,
   "id": "71a6140b-0327-41cd-a504-290f56c816ea",
   "metadata": {},
   "outputs": [],
   "source": [
    "deepl_auth_key = 'Secret'\n",
    "translator = deepl.Translator(deepl_auth_key)"
   ]
  },
  {
   "cell_type": "code",
   "execution_count": 13,
   "id": "593b12a7-3d02-4d00-ae17-99daf7931c73",
   "metadata": {},
   "outputs": [
    {
     "name": "stdout",
     "output_type": "stream",
     "text": [
      "Ich hab das Set 3 mal bekommen . Das erste war nach 5 Monaten hinüber, das zweite nach einem Tag und das letzte nach 1Std. Jetzt war es mir zu doof die 3te Maschine auch wieder zurück zu senden, habe deshalb das Teil was defekt war im Internet bestellt und von Amazon eine Gutschrift bekommen. Trotz allem, ist man von Makita besseres Gewohnt. Hab noch eine Akkuflex gekauft mal sehen wie lange diese hält. Info kommt. | I got the set 3 times. The first was broken after 5 months, the second after one day and the last after 1 hour. Now it was too stupid for me to send the third machine back, so I ordered the defective part on the internet and got a credit note from Amazon. Despite everything, I'm used to better from Makita. I bought another Akkuflex and will see how long it lasts. Info coming.\n"
     ]
    }
   ],
   "source": [
    "review = df.iloc[0,0]\n",
    "language = df.iloc[0,1]\n",
    "translated = translator.translate_text(review, target_lang='en-gb')\n",
    "print(review, '|' ,translated)"
   ]
  },
  {
   "cell_type": "code",
   "execution_count": 24,
   "id": "dc771834-ec09-44f7-80bb-26c9d7256787",
   "metadata": {
    "tags": []
   },
   "outputs": [],
   "source": [
    "# Translate reviews\n",
    "translations = []\n",
    "for row in df.iterrows():\n",
    "    review = row[1][0]\n",
    "    language = row[1][1]\n",
    "    if language == 'en':\n",
    "        translation = review\n",
    "    elif language in ['ie', 'sr']:\n",
    "        translation = 'language not supported'\n",
    "    else:\n",
    "        translation = 'test'\n",
    "        translation = translator.translate_text(review, target_lang='en-gb', source_lang=language)\n",
    "        \n",
    "    translations.append(translation)"
   ]
  },
  {
   "cell_type": "code",
   "execution_count": 25,
   "id": "deb303b5-0a82-4eea-bebe-961aa0bcc4c8",
   "metadata": {},
   "outputs": [
    {
     "data": {
      "text/plain": [
       "829"
      ]
     },
     "execution_count": 25,
     "metadata": {},
     "output_type": "execute_result"
    }
   ],
   "source": [
    "len(translations)"
   ]
  },
  {
   "cell_type": "code",
   "execution_count": 26,
   "id": "06448ed9-61d1-421e-87be-fbcc6a1b7d90",
   "metadata": {},
   "outputs": [],
   "source": [
    "# Add Translation to dataframe\n",
    "df['Translated'] = translations"
   ]
  },
  {
   "cell_type": "code",
   "execution_count": 27,
   "id": "32e9cbd7-bf31-42fe-bb59-592bc1c9bece",
   "metadata": {},
   "outputs": [],
   "source": [
    "df.to_csv('Data/Reviews_Translated.csv')"
   ]
  },
  {
   "cell_type": "markdown",
   "id": "85c91456-5246-4f2a-a874-7cae0387cce8",
   "metadata": {
    "jp-MarkdownHeadingCollapsed": true,
    "tags": []
   },
   "source": [
    "# 3. Analysing the Reviews"
   ]
  },
  {
   "cell_type": "markdown",
   "id": "c1166a0c-ef02-4604-8365-e30bd79ef712",
   "metadata": {
    "jp-MarkdownHeadingCollapsed": true,
    "tags": []
   },
   "source": [
    "## 3.1 Callculating Text Metrics"
   ]
  },
  {
   "cell_type": "code",
   "execution_count": 4,
   "id": "5b194f9a-ccdc-40a4-bea2-292889ff8175",
   "metadata": {},
   "outputs": [],
   "source": [
    "df = pd.read_csv('Data/Reviews_Translated.csv', index_col=0)"
   ]
  },
  {
   "cell_type": "code",
   "execution_count": 28,
   "id": "b383b6c3-7944-4ea5-97b7-1501320bc31c",
   "metadata": {},
   "outputs": [
    {
     "data": {
      "text/html": [
       "<div>\n",
       "<style scoped>\n",
       "    .dataframe tbody tr th:only-of-type {\n",
       "        vertical-align: middle;\n",
       "    }\n",
       "\n",
       "    .dataframe tbody tr th {\n",
       "        vertical-align: top;\n",
       "    }\n",
       "\n",
       "    .dataframe thead th {\n",
       "        text-align: right;\n",
       "    }\n",
       "</style>\n",
       "<table border=\"1\" class=\"dataframe\">\n",
       "  <thead>\n",
       "    <tr style=\"text-align: right;\">\n",
       "      <th></th>\n",
       "      <th>Review</th>\n",
       "      <th>Language</th>\n",
       "      <th>Translated</th>\n",
       "    </tr>\n",
       "  </thead>\n",
       "  <tbody>\n",
       "    <tr>\n",
       "      <th>0</th>\n",
       "      <td>Ich hab das Set 3 mal bekommen . Das erste war...</td>\n",
       "      <td>de</td>\n",
       "      <td>I got the set 3 times. The first was broken af...</td>\n",
       "    </tr>\n",
       "    <tr>\n",
       "      <th>1</th>\n",
       "      <td>Der Makita-Koffer hält, was er verspricht. Auc...</td>\n",
       "      <td>de</td>\n",
       "      <td>The Makita case keeps its promise. Even though...</td>\n",
       "    </tr>\n",
       "    <tr>\n",
       "      <th>2</th>\n",
       "      <td>Ich hab den Koffer als Geschenk für meinen Man...</td>\n",
       "      <td>de</td>\n",
       "      <td>I ordered the case as a gift for my husband be...</td>\n",
       "    </tr>\n",
       "    <tr>\n",
       "      <th>3</th>\n",
       "      <td>Es ist bereits unser 3. Gerät dieser Sorte und...</td>\n",
       "      <td>de</td>\n",
       "      <td>It is already our third tool of this type and ...</td>\n",
       "    </tr>\n",
       "    <tr>\n",
       "      <th>4</th>\n",
       "      <td>Der gekaufte makita Akkuschrauber überzeugt mi...</td>\n",
       "      <td>de</td>\n",
       "      <td>The purchased makita cordless screwdriver conv...</td>\n",
       "    </tr>\n",
       "  </tbody>\n",
       "</table>\n",
       "</div>"
      ],
      "text/plain": [
       "                                              Review Language  \\\n",
       "0  Ich hab das Set 3 mal bekommen . Das erste war...       de   \n",
       "1  Der Makita-Koffer hält, was er verspricht. Auc...       de   \n",
       "2  Ich hab den Koffer als Geschenk für meinen Man...       de   \n",
       "3  Es ist bereits unser 3. Gerät dieser Sorte und...       de   \n",
       "4  Der gekaufte makita Akkuschrauber überzeugt mi...       de   \n",
       "\n",
       "                                          Translated  \n",
       "0  I got the set 3 times. The first was broken af...  \n",
       "1  The Makita case keeps its promise. Even though...  \n",
       "2  I ordered the case as a gift for my husband be...  \n",
       "3  It is already our third tool of this type and ...  \n",
       "4  The purchased makita cordless screwdriver conv...  "
      ]
     },
     "execution_count": 28,
     "metadata": {},
     "output_type": "execute_result"
    }
   ],
   "source": [
    "df.head()"
   ]
  },
  {
   "cell_type": "code",
   "execution_count": 29,
   "id": "591837a8-a213-47e6-b997-74b8bb3569c6",
   "metadata": {},
   "outputs": [],
   "source": [
    "df['Word_Count'] = df['Translated'].apply(lambda x: len(str(x).split()))\n",
    "df['Char_Count'] = df['Translated'].str.len()"
   ]
  },
  {
   "cell_type": "code",
   "execution_count": 31,
   "id": "c2dd8b06-f511-4b0e-9e89-fa7c2a376d17",
   "metadata": {},
   "outputs": [
    {
     "data": {
      "text/html": [
       "<div>\n",
       "<style scoped>\n",
       "    .dataframe tbody tr th:only-of-type {\n",
       "        vertical-align: middle;\n",
       "    }\n",
       "\n",
       "    .dataframe tbody tr th {\n",
       "        vertical-align: top;\n",
       "    }\n",
       "\n",
       "    .dataframe thead th {\n",
       "        text-align: right;\n",
       "    }\n",
       "</style>\n",
       "<table border=\"1\" class=\"dataframe\">\n",
       "  <thead>\n",
       "    <tr style=\"text-align: right;\">\n",
       "      <th></th>\n",
       "      <th>Review</th>\n",
       "      <th>Language</th>\n",
       "      <th>Translated</th>\n",
       "      <th>Word_Count</th>\n",
       "      <th>Char_Count</th>\n",
       "    </tr>\n",
       "  </thead>\n",
       "  <tbody>\n",
       "    <tr>\n",
       "      <th>0</th>\n",
       "      <td>Ich hab das Set 3 mal bekommen . Das erste war...</td>\n",
       "      <td>de</td>\n",
       "      <td>I got the set 3 times. The first was broken af...</td>\n",
       "      <td>74</td>\n",
       "      <td>NaN</td>\n",
       "    </tr>\n",
       "    <tr>\n",
       "      <th>1</th>\n",
       "      <td>Der Makita-Koffer hält, was er verspricht. Auc...</td>\n",
       "      <td>de</td>\n",
       "      <td>The Makita case keeps its promise. Even though...</td>\n",
       "      <td>70</td>\n",
       "      <td>NaN</td>\n",
       "    </tr>\n",
       "    <tr>\n",
       "      <th>2</th>\n",
       "      <td>Ich hab den Koffer als Geschenk für meinen Man...</td>\n",
       "      <td>de</td>\n",
       "      <td>I ordered the case as a gift for my husband be...</td>\n",
       "      <td>99</td>\n",
       "      <td>NaN</td>\n",
       "    </tr>\n",
       "    <tr>\n",
       "      <th>3</th>\n",
       "      <td>Es ist bereits unser 3. Gerät dieser Sorte und...</td>\n",
       "      <td>de</td>\n",
       "      <td>It is already our third tool of this type and ...</td>\n",
       "      <td>36</td>\n",
       "      <td>NaN</td>\n",
       "    </tr>\n",
       "    <tr>\n",
       "      <th>4</th>\n",
       "      <td>Der gekaufte makita Akkuschrauber überzeugt mi...</td>\n",
       "      <td>de</td>\n",
       "      <td>The purchased makita cordless screwdriver conv...</td>\n",
       "      <td>75</td>\n",
       "      <td>NaN</td>\n",
       "    </tr>\n",
       "  </tbody>\n",
       "</table>\n",
       "</div>"
      ],
      "text/plain": [
       "                                              Review Language  \\\n",
       "0  Ich hab das Set 3 mal bekommen . Das erste war...       de   \n",
       "1  Der Makita-Koffer hält, was er verspricht. Auc...       de   \n",
       "2  Ich hab den Koffer als Geschenk für meinen Man...       de   \n",
       "3  Es ist bereits unser 3. Gerät dieser Sorte und...       de   \n",
       "4  Der gekaufte makita Akkuschrauber überzeugt mi...       de   \n",
       "\n",
       "                                          Translated  Word_Count  Char_Count  \n",
       "0  I got the set 3 times. The first was broken af...          74         NaN  \n",
       "1  The Makita case keeps its promise. Even though...          70         NaN  \n",
       "2  I ordered the case as a gift for my husband be...          99         NaN  \n",
       "3  It is already our third tool of this type and ...          36         NaN  \n",
       "4  The purchased makita cordless screwdriver conv...          75         NaN  "
      ]
     },
     "execution_count": 31,
     "metadata": {},
     "output_type": "execute_result"
    }
   ],
   "source": [
    "df.head()"
   ]
  },
  {
   "cell_type": "markdown",
   "id": "499c033d-4912-47be-9c74-f5b5aa147b0a",
   "metadata": {
    "jp-MarkdownHeadingCollapsed": true,
    "tags": []
   },
   "source": [
    "## 3.2 Counting Stopwords"
   ]
  },
  {
   "cell_type": "code",
   "execution_count": 32,
   "id": "00d10743-9967-4077-908c-089ed7a2246f",
   "metadata": {},
   "outputs": [
    {
     "name": "stderr",
     "output_type": "stream",
     "text": [
      "[nltk_data] Downloading package stopwords to\n",
      "[nltk_data]     C:\\Users\\leonr\\AppData\\Roaming\\nltk_data...\n",
      "[nltk_data]   Package stopwords is already up-to-date!\n"
     ]
    }
   ],
   "source": [
    "import nltk\n",
    "nltk.download('stopwords')\n",
    "from nltk.corpus import stopwords"
   ]
  },
  {
   "cell_type": "code",
   "execution_count": 33,
   "id": "ab3f7c85-b642-43e4-adb7-b7c30411dd21",
   "metadata": {},
   "outputs": [],
   "source": [
    "stop_words = stopwords.words('english')"
   ]
  },
  {
   "cell_type": "code",
   "execution_count": 54,
   "id": "6a883c97-10db-4303-af10-83ccfabdf382",
   "metadata": {},
   "outputs": [],
   "source": [
    "df['Stop-Words'] = df['Translated'].apply(lambda x: len([x for x in str(x).split() if x in stop_words]))"
   ]
  },
  {
   "cell_type": "code",
   "execution_count": 55,
   "id": "90dc3198-acbc-4f48-8554-a44b0f53b6a3",
   "metadata": {},
   "outputs": [
    {
     "data": {
      "text/html": [
       "<div>\n",
       "<style scoped>\n",
       "    .dataframe tbody tr th:only-of-type {\n",
       "        vertical-align: middle;\n",
       "    }\n",
       "\n",
       "    .dataframe tbody tr th {\n",
       "        vertical-align: top;\n",
       "    }\n",
       "\n",
       "    .dataframe thead th {\n",
       "        text-align: right;\n",
       "    }\n",
       "</style>\n",
       "<table border=\"1\" class=\"dataframe\">\n",
       "  <thead>\n",
       "    <tr style=\"text-align: right;\">\n",
       "      <th></th>\n",
       "      <th>Review</th>\n",
       "      <th>Language</th>\n",
       "      <th>Translated</th>\n",
       "      <th>Word_Count</th>\n",
       "      <th>Char_Count</th>\n",
       "      <th>Stop-Words</th>\n",
       "    </tr>\n",
       "  </thead>\n",
       "  <tbody>\n",
       "    <tr>\n",
       "      <th>0</th>\n",
       "      <td>Ich hab das Set 3 mal bekommen . Das erste war...</td>\n",
       "      <td>de</td>\n",
       "      <td>I got the set 3 times. The first was broken af...</td>\n",
       "      <td>74</td>\n",
       "      <td>NaN</td>\n",
       "      <td>28</td>\n",
       "    </tr>\n",
       "    <tr>\n",
       "      <th>1</th>\n",
       "      <td>Der Makita-Koffer hält, was er verspricht. Auc...</td>\n",
       "      <td>de</td>\n",
       "      <td>The Makita case keeps its promise. Even though...</td>\n",
       "      <td>70</td>\n",
       "      <td>NaN</td>\n",
       "      <td>28</td>\n",
       "    </tr>\n",
       "    <tr>\n",
       "      <th>2</th>\n",
       "      <td>Ich hab den Koffer als Geschenk für meinen Man...</td>\n",
       "      <td>de</td>\n",
       "      <td>I ordered the case as a gift for my husband be...</td>\n",
       "      <td>99</td>\n",
       "      <td>NaN</td>\n",
       "      <td>47</td>\n",
       "    </tr>\n",
       "    <tr>\n",
       "      <th>3</th>\n",
       "      <td>Es ist bereits unser 3. Gerät dieser Sorte und...</td>\n",
       "      <td>de</td>\n",
       "      <td>It is already our third tool of this type and ...</td>\n",
       "      <td>36</td>\n",
       "      <td>NaN</td>\n",
       "      <td>18</td>\n",
       "    </tr>\n",
       "    <tr>\n",
       "      <th>4</th>\n",
       "      <td>Der gekaufte makita Akkuschrauber überzeugt mi...</td>\n",
       "      <td>de</td>\n",
       "      <td>The purchased makita cordless screwdriver conv...</td>\n",
       "      <td>75</td>\n",
       "      <td>NaN</td>\n",
       "      <td>31</td>\n",
       "    </tr>\n",
       "  </tbody>\n",
       "</table>\n",
       "</div>"
      ],
      "text/plain": [
       "                                              Review Language  \\\n",
       "0  Ich hab das Set 3 mal bekommen . Das erste war...       de   \n",
       "1  Der Makita-Koffer hält, was er verspricht. Auc...       de   \n",
       "2  Ich hab den Koffer als Geschenk für meinen Man...       de   \n",
       "3  Es ist bereits unser 3. Gerät dieser Sorte und...       de   \n",
       "4  Der gekaufte makita Akkuschrauber überzeugt mi...       de   \n",
       "\n",
       "                                          Translated  Word_Count  Char_Count  \\\n",
       "0  I got the set 3 times. The first was broken af...          74         NaN   \n",
       "1  The Makita case keeps its promise. Even though...          70         NaN   \n",
       "2  I ordered the case as a gift for my husband be...          99         NaN   \n",
       "3  It is already our third tool of this type and ...          36         NaN   \n",
       "4  The purchased makita cordless screwdriver conv...          75         NaN   \n",
       "\n",
       "   Stop-Words  \n",
       "0          28  \n",
       "1          28  \n",
       "2          47  \n",
       "3          18  \n",
       "4          31  "
      ]
     },
     "execution_count": 55,
     "metadata": {},
     "output_type": "execute_result"
    }
   ],
   "source": [
    "df.head()"
   ]
  },
  {
   "cell_type": "code",
   "execution_count": 62,
   "id": "d9704003-59d0-442a-af30-9cc78f853012",
   "metadata": {},
   "outputs": [
    {
     "name": "stdout",
     "output_type": "stream",
     "text": [
      "I ordered the case as a gift for my husband because we already had good experiences with Makita. I was convinced by the look and of course the good content for the price. The aluminium case is super sturdy and keeps everything safe and well stored. Both batteries work perfectly and so does the machine so far. You get here super quality and everything you need as a leihe at home for the beginning at a good price.1 star deduction only because I unfortunately can not report anything about the life as we own it only for 2 months.\n"
     ]
    }
   ],
   "source": [
    "print(df.iloc[2]['Translated'])"
   ]
  },
  {
   "cell_type": "markdown",
   "id": "ad858bc8-17ab-4a60-b184-2314648ecb00",
   "metadata": {
    "jp-MarkdownHeadingCollapsed": true,
    "tags": []
   },
   "source": [
    "# 4. Preprocessing"
   ]
  },
  {
   "cell_type": "markdown",
   "id": "806f574a-451c-405c-a579-7f6e46dcc2e3",
   "metadata": {
    "jp-MarkdownHeadingCollapsed": true,
    "tags": []
   },
   "source": [
    "## 4.1 Lowercase all Words"
   ]
  },
  {
   "cell_type": "code",
   "execution_count": 63,
   "id": "48e5a4eb-ea06-4c0d-857d-ea41d76a468f",
   "metadata": {},
   "outputs": [
    {
     "data": {
      "text/plain": [
       "Index(['Review', 'Language', 'Translated', 'Word_Count', 'Char_Count',\n",
       "       'Stop-Words'],\n",
       "      dtype='object')"
      ]
     },
     "execution_count": 63,
     "metadata": {},
     "output_type": "execute_result"
    }
   ],
   "source": [
    "df.columns"
   ]
  },
  {
   "cell_type": "code",
   "execution_count": 66,
   "id": "be27fc39-5af5-4336-997b-42834999000d",
   "metadata": {},
   "outputs": [],
   "source": [
    "df['Translated_Lower'] = df['Translated'].apply(\n",
    "    lambda x: \" \".join(str(x).lower() for x in str(x).split()))"
   ]
  },
  {
   "cell_type": "code",
   "execution_count": 67,
   "id": "431b7ef9-054d-4316-b959-e61199e9f0e7",
   "metadata": {},
   "outputs": [
    {
     "data": {
      "text/html": [
       "<div>\n",
       "<style scoped>\n",
       "    .dataframe tbody tr th:only-of-type {\n",
       "        vertical-align: middle;\n",
       "    }\n",
       "\n",
       "    .dataframe tbody tr th {\n",
       "        vertical-align: top;\n",
       "    }\n",
       "\n",
       "    .dataframe thead th {\n",
       "        text-align: right;\n",
       "    }\n",
       "</style>\n",
       "<table border=\"1\" class=\"dataframe\">\n",
       "  <thead>\n",
       "    <tr style=\"text-align: right;\">\n",
       "      <th></th>\n",
       "      <th>Review</th>\n",
       "      <th>Language</th>\n",
       "      <th>Translated</th>\n",
       "      <th>Word_Count</th>\n",
       "      <th>Char_Count</th>\n",
       "      <th>Stop-Words</th>\n",
       "      <th>Translated_Lower</th>\n",
       "    </tr>\n",
       "  </thead>\n",
       "  <tbody>\n",
       "    <tr>\n",
       "      <th>0</th>\n",
       "      <td>Ich hab das Set 3 mal bekommen . Das erste war...</td>\n",
       "      <td>de</td>\n",
       "      <td>I got the set 3 times. The first was broken af...</td>\n",
       "      <td>74</td>\n",
       "      <td>NaN</td>\n",
       "      <td>28</td>\n",
       "      <td>i got the set 3 times. the first was broken af...</td>\n",
       "    </tr>\n",
       "    <tr>\n",
       "      <th>1</th>\n",
       "      <td>Der Makita-Koffer hält, was er verspricht. Auc...</td>\n",
       "      <td>de</td>\n",
       "      <td>The Makita case keeps its promise. Even though...</td>\n",
       "      <td>70</td>\n",
       "      <td>NaN</td>\n",
       "      <td>28</td>\n",
       "      <td>the makita case keeps its promise. even though...</td>\n",
       "    </tr>\n",
       "    <tr>\n",
       "      <th>2</th>\n",
       "      <td>Ich hab den Koffer als Geschenk für meinen Man...</td>\n",
       "      <td>de</td>\n",
       "      <td>I ordered the case as a gift for my husband be...</td>\n",
       "      <td>99</td>\n",
       "      <td>NaN</td>\n",
       "      <td>47</td>\n",
       "      <td>i ordered the case as a gift for my husband be...</td>\n",
       "    </tr>\n",
       "    <tr>\n",
       "      <th>3</th>\n",
       "      <td>Es ist bereits unser 3. Gerät dieser Sorte und...</td>\n",
       "      <td>de</td>\n",
       "      <td>It is already our third tool of this type and ...</td>\n",
       "      <td>36</td>\n",
       "      <td>NaN</td>\n",
       "      <td>18</td>\n",
       "      <td>it is already our third tool of this type and ...</td>\n",
       "    </tr>\n",
       "    <tr>\n",
       "      <th>4</th>\n",
       "      <td>Der gekaufte makita Akkuschrauber überzeugt mi...</td>\n",
       "      <td>de</td>\n",
       "      <td>The purchased makita cordless screwdriver conv...</td>\n",
       "      <td>75</td>\n",
       "      <td>NaN</td>\n",
       "      <td>31</td>\n",
       "      <td>the purchased makita cordless screwdriver conv...</td>\n",
       "    </tr>\n",
       "  </tbody>\n",
       "</table>\n",
       "</div>"
      ],
      "text/plain": [
       "                                              Review Language  \\\n",
       "0  Ich hab das Set 3 mal bekommen . Das erste war...       de   \n",
       "1  Der Makita-Koffer hält, was er verspricht. Auc...       de   \n",
       "2  Ich hab den Koffer als Geschenk für meinen Man...       de   \n",
       "3  Es ist bereits unser 3. Gerät dieser Sorte und...       de   \n",
       "4  Der gekaufte makita Akkuschrauber überzeugt mi...       de   \n",
       "\n",
       "                                          Translated  Word_Count  Char_Count  \\\n",
       "0  I got the set 3 times. The first was broken af...          74         NaN   \n",
       "1  The Makita case keeps its promise. Even though...          70         NaN   \n",
       "2  I ordered the case as a gift for my husband be...          99         NaN   \n",
       "3  It is already our third tool of this type and ...          36         NaN   \n",
       "4  The purchased makita cordless screwdriver conv...          75         NaN   \n",
       "\n",
       "   Stop-Words                                   Translated_Lower  \n",
       "0          28  i got the set 3 times. the first was broken af...  \n",
       "1          28  the makita case keeps its promise. even though...  \n",
       "2          47  i ordered the case as a gift for my husband be...  \n",
       "3          18  it is already our third tool of this type and ...  \n",
       "4          31  the purchased makita cordless screwdriver conv...  "
      ]
     },
     "execution_count": 67,
     "metadata": {},
     "output_type": "execute_result"
    }
   ],
   "source": [
    "df.head()"
   ]
  },
  {
   "cell_type": "markdown",
   "id": "fef248f3-9cb4-4038-b572-0373bc2b9970",
   "metadata": {
    "tags": []
   },
   "source": [
    "## 4.2 Stripping Punctuation"
   ]
  },
  {
   "cell_type": "code",
   "execution_count": 71,
   "id": "d921cb4c-babc-484e-9960-50a18e08ee64",
   "metadata": {},
   "outputs": [
    {
     "name": "stderr",
     "output_type": "stream",
     "text": [
      "C:\\Users\\leonr\\AppData\\Local\\Temp\\ipykernel_25900\\2592959188.py:1: FutureWarning: The default value of regex will change from True to False in a future version.\n",
      "  df['Translated_Nopunc'] = df['Translated_Lower'].str.replace('[^\\w\\s]',' ')\n"
     ]
    }
   ],
   "source": [
    "df['Translated_Nopunc'] = df['Translated_Lower'].str.replace('[^\\w\\s]',' ')"
   ]
  },
  {
   "cell_type": "code",
   "execution_count": 72,
   "id": "3d4fbdbb-b33f-4dec-aeef-9638d121ebe8",
   "metadata": {
    "tags": []
   },
   "outputs": [
    {
     "data": {
      "text/html": [
       "<div>\n",
       "<style scoped>\n",
       "    .dataframe tbody tr th:only-of-type {\n",
       "        vertical-align: middle;\n",
       "    }\n",
       "\n",
       "    .dataframe tbody tr th {\n",
       "        vertical-align: top;\n",
       "    }\n",
       "\n",
       "    .dataframe thead th {\n",
       "        text-align: right;\n",
       "    }\n",
       "</style>\n",
       "<table border=\"1\" class=\"dataframe\">\n",
       "  <thead>\n",
       "    <tr style=\"text-align: right;\">\n",
       "      <th></th>\n",
       "      <th>Review</th>\n",
       "      <th>Language</th>\n",
       "      <th>Translated</th>\n",
       "      <th>Word_Count</th>\n",
       "      <th>Char_Count</th>\n",
       "      <th>Stop-Words</th>\n",
       "      <th>Translated_Lower</th>\n",
       "      <th>Translated_Nopunc</th>\n",
       "    </tr>\n",
       "  </thead>\n",
       "  <tbody>\n",
       "    <tr>\n",
       "      <th>0</th>\n",
       "      <td>Ich hab das Set 3 mal bekommen . Das erste war...</td>\n",
       "      <td>de</td>\n",
       "      <td>I got the set 3 times. The first was broken af...</td>\n",
       "      <td>74</td>\n",
       "      <td>NaN</td>\n",
       "      <td>28</td>\n",
       "      <td>i got the set 3 times. the first was broken af...</td>\n",
       "      <td>i got the set 3 times  the first was broken af...</td>\n",
       "    </tr>\n",
       "    <tr>\n",
       "      <th>1</th>\n",
       "      <td>Der Makita-Koffer hält, was er verspricht. Auc...</td>\n",
       "      <td>de</td>\n",
       "      <td>The Makita case keeps its promise. Even though...</td>\n",
       "      <td>70</td>\n",
       "      <td>NaN</td>\n",
       "      <td>28</td>\n",
       "      <td>the makita case keeps its promise. even though...</td>\n",
       "      <td>the makita case keeps its promise  even though...</td>\n",
       "    </tr>\n",
       "    <tr>\n",
       "      <th>2</th>\n",
       "      <td>Ich hab den Koffer als Geschenk für meinen Man...</td>\n",
       "      <td>de</td>\n",
       "      <td>I ordered the case as a gift for my husband be...</td>\n",
       "      <td>99</td>\n",
       "      <td>NaN</td>\n",
       "      <td>47</td>\n",
       "      <td>i ordered the case as a gift for my husband be...</td>\n",
       "      <td>i ordered the case as a gift for my husband be...</td>\n",
       "    </tr>\n",
       "    <tr>\n",
       "      <th>3</th>\n",
       "      <td>Es ist bereits unser 3. Gerät dieser Sorte und...</td>\n",
       "      <td>de</td>\n",
       "      <td>It is already our third tool of this type and ...</td>\n",
       "      <td>36</td>\n",
       "      <td>NaN</td>\n",
       "      <td>18</td>\n",
       "      <td>it is already our third tool of this type and ...</td>\n",
       "      <td>it is already our third tool of this type and ...</td>\n",
       "    </tr>\n",
       "    <tr>\n",
       "      <th>4</th>\n",
       "      <td>Der gekaufte makita Akkuschrauber überzeugt mi...</td>\n",
       "      <td>de</td>\n",
       "      <td>The purchased makita cordless screwdriver conv...</td>\n",
       "      <td>75</td>\n",
       "      <td>NaN</td>\n",
       "      <td>31</td>\n",
       "      <td>the purchased makita cordless screwdriver conv...</td>\n",
       "      <td>the purchased makita cordless screwdriver conv...</td>\n",
       "    </tr>\n",
       "    <tr>\n",
       "      <th>5</th>\n",
       "      <td>Impressive tool.Totally recommendable.BR</td>\n",
       "      <td>en</td>\n",
       "      <td>Impressive tool.Totally recommendable.BR</td>\n",
       "      <td>3</td>\n",
       "      <td>40.0</td>\n",
       "      <td>0</td>\n",
       "      <td>impressive tool.totally recommendable.br</td>\n",
       "      <td>impressive tool totally recommendable br</td>\n",
       "    </tr>\n",
       "    <tr>\n",
       "      <th>6</th>\n",
       "      <td>Preisleistung passt Makita halt gerne wieder</td>\n",
       "      <td>de</td>\n",
       "      <td>Price performance fits Makita just gladly again</td>\n",
       "      <td>7</td>\n",
       "      <td>NaN</td>\n",
       "      <td>2</td>\n",
       "      <td>price performance fits makita just gladly again</td>\n",
       "      <td>price performance fits makita just gladly again</td>\n",
       "    </tr>\n",
       "    <tr>\n",
       "      <th>7</th>\n",
       "      <td>Guter Akkuschrauber der bisher gute Leistung g...</td>\n",
       "      <td>de</td>\n",
       "      <td>Good cordless screwdriver that has performed w...</td>\n",
       "      <td>25</td>\n",
       "      <td>NaN</td>\n",
       "      <td>10</td>\n",
       "      <td>good cordless screwdriver that has performed w...</td>\n",
       "      <td>good cordless screwdriver that has performed w...</td>\n",
       "    </tr>\n",
       "    <tr>\n",
       "      <th>8</th>\n",
       "      <td>alles ok.</td>\n",
       "      <td>da</td>\n",
       "      <td>Everything's fine.</td>\n",
       "      <td>2</td>\n",
       "      <td>NaN</td>\n",
       "      <td>0</td>\n",
       "      <td>everything's fine.</td>\n",
       "      <td>everything s fine</td>\n",
       "    </tr>\n",
       "    <tr>\n",
       "      <th>9</th>\n",
       "      <td>Macht was es soll</td>\n",
       "      <td>de</td>\n",
       "      <td>Does what it should</td>\n",
       "      <td>4</td>\n",
       "      <td>NaN</td>\n",
       "      <td>3</td>\n",
       "      <td>does what it should</td>\n",
       "      <td>does what it should</td>\n",
       "    </tr>\n",
       "  </tbody>\n",
       "</table>\n",
       "</div>"
      ],
      "text/plain": [
       "                                              Review Language  \\\n",
       "0  Ich hab das Set 3 mal bekommen . Das erste war...       de   \n",
       "1  Der Makita-Koffer hält, was er verspricht. Auc...       de   \n",
       "2  Ich hab den Koffer als Geschenk für meinen Man...       de   \n",
       "3  Es ist bereits unser 3. Gerät dieser Sorte und...       de   \n",
       "4  Der gekaufte makita Akkuschrauber überzeugt mi...       de   \n",
       "5           Impressive tool.Totally recommendable.BR       en   \n",
       "6      Preisleistung passt Makita halt gerne wieder        de   \n",
       "7  Guter Akkuschrauber der bisher gute Leistung g...       de   \n",
       "8                                          alles ok.       da   \n",
       "9                                  Macht was es soll       de   \n",
       "\n",
       "                                          Translated  Word_Count  Char_Count  \\\n",
       "0  I got the set 3 times. The first was broken af...          74         NaN   \n",
       "1  The Makita case keeps its promise. Even though...          70         NaN   \n",
       "2  I ordered the case as a gift for my husband be...          99         NaN   \n",
       "3  It is already our third tool of this type and ...          36         NaN   \n",
       "4  The purchased makita cordless screwdriver conv...          75         NaN   \n",
       "5           Impressive tool.Totally recommendable.BR           3        40.0   \n",
       "6    Price performance fits Makita just gladly again           7         NaN   \n",
       "7  Good cordless screwdriver that has performed w...          25         NaN   \n",
       "8                                 Everything's fine.           2         NaN   \n",
       "9                                Does what it should           4         NaN   \n",
       "\n",
       "   Stop-Words                                   Translated_Lower  \\\n",
       "0          28  i got the set 3 times. the first was broken af...   \n",
       "1          28  the makita case keeps its promise. even though...   \n",
       "2          47  i ordered the case as a gift for my husband be...   \n",
       "3          18  it is already our third tool of this type and ...   \n",
       "4          31  the purchased makita cordless screwdriver conv...   \n",
       "5           0           impressive tool.totally recommendable.br   \n",
       "6           2    price performance fits makita just gladly again   \n",
       "7          10  good cordless screwdriver that has performed w...   \n",
       "8           0                                 everything's fine.   \n",
       "9           3                                does what it should   \n",
       "\n",
       "                                   Translated_Nopunc  \n",
       "0  i got the set 3 times  the first was broken af...  \n",
       "1  the makita case keeps its promise  even though...  \n",
       "2  i ordered the case as a gift for my husband be...  \n",
       "3  it is already our third tool of this type and ...  \n",
       "4  the purchased makita cordless screwdriver conv...  \n",
       "5           impressive tool totally recommendable br  \n",
       "6    price performance fits makita just gladly again  \n",
       "7  good cordless screwdriver that has performed w...  \n",
       "8                                 everything s fine   \n",
       "9                                does what it should  "
      ]
     },
     "execution_count": 72,
     "metadata": {},
     "output_type": "execute_result"
    }
   ],
   "source": [
    "df.head(10)"
   ]
  },
  {
   "cell_type": "markdown",
   "id": "cbb3d49d-ec0e-419b-82d1-e01dd1a6f6b5",
   "metadata": {
    "jp-MarkdownHeadingCollapsed": true,
    "tags": []
   },
   "source": [
    "## 4.3 Removing Stopwords"
   ]
  },
  {
   "cell_type": "code",
   "execution_count": 73,
   "id": "3038899c-57d3-44e6-97ba-b305b7b51505",
   "metadata": {},
   "outputs": [],
   "source": [
    "df['Translated_Nostop'] = df['Translated_Nopunc'].apply(\n",
    "    lambda x: \" \".join(word for word in x.split() if word not in stop_words))"
   ]
  },
  {
   "cell_type": "code",
   "execution_count": 74,
   "id": "538b8881-dc85-4739-88fd-3703f47239fa",
   "metadata": {},
   "outputs": [
    {
     "data": {
      "text/html": [
       "<div>\n",
       "<style scoped>\n",
       "    .dataframe tbody tr th:only-of-type {\n",
       "        vertical-align: middle;\n",
       "    }\n",
       "\n",
       "    .dataframe tbody tr th {\n",
       "        vertical-align: top;\n",
       "    }\n",
       "\n",
       "    .dataframe thead th {\n",
       "        text-align: right;\n",
       "    }\n",
       "</style>\n",
       "<table border=\"1\" class=\"dataframe\">\n",
       "  <thead>\n",
       "    <tr style=\"text-align: right;\">\n",
       "      <th></th>\n",
       "      <th>Review</th>\n",
       "      <th>Language</th>\n",
       "      <th>Translated</th>\n",
       "      <th>Word_Count</th>\n",
       "      <th>Char_Count</th>\n",
       "      <th>Stop-Words</th>\n",
       "      <th>Translated_Lower</th>\n",
       "      <th>Translated_Nopunc</th>\n",
       "      <th>Translated_Nostop</th>\n",
       "    </tr>\n",
       "  </thead>\n",
       "  <tbody>\n",
       "    <tr>\n",
       "      <th>0</th>\n",
       "      <td>Ich hab das Set 3 mal bekommen . Das erste war...</td>\n",
       "      <td>de</td>\n",
       "      <td>I got the set 3 times. The first was broken af...</td>\n",
       "      <td>74</td>\n",
       "      <td>NaN</td>\n",
       "      <td>28</td>\n",
       "      <td>i got the set 3 times. the first was broken af...</td>\n",
       "      <td>i got the set 3 times  the first was broken af...</td>\n",
       "      <td>got set 3 times first broken 5 months second o...</td>\n",
       "    </tr>\n",
       "    <tr>\n",
       "      <th>1</th>\n",
       "      <td>Der Makita-Koffer hält, was er verspricht. Auc...</td>\n",
       "      <td>de</td>\n",
       "      <td>The Makita case keeps its promise. Even though...</td>\n",
       "      <td>70</td>\n",
       "      <td>NaN</td>\n",
       "      <td>28</td>\n",
       "      <td>the makita case keeps its promise. even though...</td>\n",
       "      <td>the makita case keeps its promise  even though...</td>\n",
       "      <td>makita case keeps promise even though case lon...</td>\n",
       "    </tr>\n",
       "    <tr>\n",
       "      <th>2</th>\n",
       "      <td>Ich hab den Koffer als Geschenk für meinen Man...</td>\n",
       "      <td>de</td>\n",
       "      <td>I ordered the case as a gift for my husband be...</td>\n",
       "      <td>99</td>\n",
       "      <td>NaN</td>\n",
       "      <td>47</td>\n",
       "      <td>i ordered the case as a gift for my husband be...</td>\n",
       "      <td>i ordered the case as a gift for my husband be...</td>\n",
       "      <td>ordered case gift husband already good experie...</td>\n",
       "    </tr>\n",
       "    <tr>\n",
       "      <th>3</th>\n",
       "      <td>Es ist bereits unser 3. Gerät dieser Sorte und...</td>\n",
       "      <td>de</td>\n",
       "      <td>It is already our third tool of this type and ...</td>\n",
       "      <td>36</td>\n",
       "      <td>NaN</td>\n",
       "      <td>18</td>\n",
       "      <td>it is already our third tool of this type and ...</td>\n",
       "      <td>it is already our third tool of this type and ...</td>\n",
       "      <td>already third tool type always delighted quali...</td>\n",
       "    </tr>\n",
       "    <tr>\n",
       "      <th>4</th>\n",
       "      <td>Der gekaufte makita Akkuschrauber überzeugt mi...</td>\n",
       "      <td>de</td>\n",
       "      <td>The purchased makita cordless screwdriver conv...</td>\n",
       "      <td>75</td>\n",
       "      <td>NaN</td>\n",
       "      <td>31</td>\n",
       "      <td>the purchased makita cordless screwdriver conv...</td>\n",
       "      <td>the purchased makita cordless screwdriver conv...</td>\n",
       "      <td>purchased makita cordless screwdriver convince...</td>\n",
       "    </tr>\n",
       "  </tbody>\n",
       "</table>\n",
       "</div>"
      ],
      "text/plain": [
       "                                              Review Language  \\\n",
       "0  Ich hab das Set 3 mal bekommen . Das erste war...       de   \n",
       "1  Der Makita-Koffer hält, was er verspricht. Auc...       de   \n",
       "2  Ich hab den Koffer als Geschenk für meinen Man...       de   \n",
       "3  Es ist bereits unser 3. Gerät dieser Sorte und...       de   \n",
       "4  Der gekaufte makita Akkuschrauber überzeugt mi...       de   \n",
       "\n",
       "                                          Translated  Word_Count  Char_Count  \\\n",
       "0  I got the set 3 times. The first was broken af...          74         NaN   \n",
       "1  The Makita case keeps its promise. Even though...          70         NaN   \n",
       "2  I ordered the case as a gift for my husband be...          99         NaN   \n",
       "3  It is already our third tool of this type and ...          36         NaN   \n",
       "4  The purchased makita cordless screwdriver conv...          75         NaN   \n",
       "\n",
       "   Stop-Words                                   Translated_Lower  \\\n",
       "0          28  i got the set 3 times. the first was broken af...   \n",
       "1          28  the makita case keeps its promise. even though...   \n",
       "2          47  i ordered the case as a gift for my husband be...   \n",
       "3          18  it is already our third tool of this type and ...   \n",
       "4          31  the purchased makita cordless screwdriver conv...   \n",
       "\n",
       "                                   Translated_Nopunc  \\\n",
       "0  i got the set 3 times  the first was broken af...   \n",
       "1  the makita case keeps its promise  even though...   \n",
       "2  i ordered the case as a gift for my husband be...   \n",
       "3  it is already our third tool of this type and ...   \n",
       "4  the purchased makita cordless screwdriver conv...   \n",
       "\n",
       "                                   Translated_Nostop  \n",
       "0  got set 3 times first broken 5 months second o...  \n",
       "1  makita case keeps promise even though case lon...  \n",
       "2  ordered case gift husband already good experie...  \n",
       "3  already third tool type always delighted quali...  \n",
       "4  purchased makita cordless screwdriver convince...  "
      ]
     },
     "execution_count": 74,
     "metadata": {},
     "output_type": "execute_result"
    }
   ],
   "source": [
    "df.head()"
   ]
  },
  {
   "cell_type": "markdown",
   "id": "e49dc041-ab11-4e48-9284-7319dab91c6a",
   "metadata": {
    "jp-MarkdownHeadingCollapsed": true,
    "tags": []
   },
   "source": [
    "## 4.4 Visualising Common Words"
   ]
  },
  {
   "cell_type": "code",
   "execution_count": 75,
   "id": "43124635-849c-42cc-9bbc-bf4c85639219",
   "metadata": {},
   "outputs": [],
   "source": [
    "import seaborn as sns\n",
    "from matplotlib import pyplot as plt"
   ]
  },
  {
   "cell_type": "code",
   "execution_count": 76,
   "id": "6bf8e5dd-dbf6-4dda-8acf-583ae6cb7943",
   "metadata": {},
   "outputs": [],
   "source": [
    "freq_words = pd.Series(\" \".join(df['Translated_Nostop']).split()).value_counts().reset_index()"
   ]
  },
  {
   "cell_type": "code",
   "execution_count": 77,
   "id": "6fe4f8ab-c43d-456b-8b59-1ea1b79dbea8",
   "metadata": {},
   "outputs": [],
   "source": [
    "freq_words.columns = ['Words', 'Frequencies']"
   ]
  },
  {
   "cell_type": "code",
   "execution_count": 78,
   "id": "4b6c1e60-f3d6-4f27-b7b8-696cf2b4ff98",
   "metadata": {},
   "outputs": [
    {
     "data": {
      "image/png": "[encoded data removed]",
      "text/plain": [
       "<Figure size 2000x600 with 1 Axes>"
      ]
     },
     "metadata": {},
     "output_type": "display_data"
    }
   ],
   "source": [
    "plt.figure(figsize=(20,6))\n",
    "plt.title('Common Words', fontsize=20)\n",
    "sns.barplot(x='Words', y='Frequencies', data=freq_words[:80])\n",
    "plt.xticks(rotation=90)\n",
    "plt.xlabel('Word', fontsize=15)\n",
    "plt.ylabel('Frequency', fontsize=15)\n",
    "plt.show()"
   ]
  },
  {
   "cell_type": "code",
   "execution_count": 79,
   "id": "dcf47291-5b9f-4420-aef4-eb231a8e9866",
   "metadata": {},
   "outputs": [],
   "source": [
    "other_stopwords = ['5', '2', '1', '3', 's']"
   ]
  },
  {
   "cell_type": "code",
   "execution_count": 80,
   "id": "c213cfe9-dd62-48a2-96fe-b707e4cd7d68",
   "metadata": {},
   "outputs": [],
   "source": [
    "df['Translated_Noother'] = df['Translated_Nostop'].apply(\n",
    "    lambda x: \" \".join(word for word in x.split() if word not in other_stopwords))"
   ]
  },
  {
   "cell_type": "code",
   "execution_count": 81,
   "id": "f4182b65-2cec-487f-9fb5-46ecb64fbce5",
   "metadata": {},
   "outputs": [
    {
     "data": {
      "text/html": [
       "<div>\n",
       "<style scoped>\n",
       "    .dataframe tbody tr th:only-of-type {\n",
       "        vertical-align: middle;\n",
       "    }\n",
       "\n",
       "    .dataframe tbody tr th {\n",
       "        vertical-align: top;\n",
       "    }\n",
       "\n",
       "    .dataframe thead th {\n",
       "        text-align: right;\n",
       "    }\n",
       "</style>\n",
       "<table border=\"1\" class=\"dataframe\">\n",
       "  <thead>\n",
       "    <tr style=\"text-align: right;\">\n",
       "      <th></th>\n",
       "      <th>Review</th>\n",
       "      <th>Language</th>\n",
       "      <th>Translated</th>\n",
       "      <th>Word_Count</th>\n",
       "      <th>Char_Count</th>\n",
       "      <th>Stop-Words</th>\n",
       "      <th>Translated_Lower</th>\n",
       "      <th>Translated_Nopunc</th>\n",
       "      <th>Translated_Nostop</th>\n",
       "      <th>Translated_Noother</th>\n",
       "    </tr>\n",
       "  </thead>\n",
       "  <tbody>\n",
       "    <tr>\n",
       "      <th>0</th>\n",
       "      <td>Ich hab das Set 3 mal bekommen . Das erste war...</td>\n",
       "      <td>de</td>\n",
       "      <td>I got the set 3 times. The first was broken af...</td>\n",
       "      <td>74</td>\n",
       "      <td>NaN</td>\n",
       "      <td>28</td>\n",
       "      <td>i got the set 3 times. the first was broken af...</td>\n",
       "      <td>i got the set 3 times  the first was broken af...</td>\n",
       "      <td>got set 3 times first broken 5 months second o...</td>\n",
       "      <td>got set times first broken months second one d...</td>\n",
       "    </tr>\n",
       "    <tr>\n",
       "      <th>1</th>\n",
       "      <td>Der Makita-Koffer hält, was er verspricht. Auc...</td>\n",
       "      <td>de</td>\n",
       "      <td>The Makita case keeps its promise. Even though...</td>\n",
       "      <td>70</td>\n",
       "      <td>NaN</td>\n",
       "      <td>28</td>\n",
       "      <td>the makita case keeps its promise. even though...</td>\n",
       "      <td>the makita case keeps its promise  even though...</td>\n",
       "      <td>makita case keeps promise even though case lon...</td>\n",
       "      <td>makita case keeps promise even though case lon...</td>\n",
       "    </tr>\n",
       "    <tr>\n",
       "      <th>2</th>\n",
       "      <td>Ich hab den Koffer als Geschenk für meinen Man...</td>\n",
       "      <td>de</td>\n",
       "      <td>I ordered the case as a gift for my husband be...</td>\n",
       "      <td>99</td>\n",
       "      <td>NaN</td>\n",
       "      <td>47</td>\n",
       "      <td>i ordered the case as a gift for my husband be...</td>\n",
       "      <td>i ordered the case as a gift for my husband be...</td>\n",
       "      <td>ordered case gift husband already good experie...</td>\n",
       "      <td>ordered case gift husband already good experie...</td>\n",
       "    </tr>\n",
       "    <tr>\n",
       "      <th>3</th>\n",
       "      <td>Es ist bereits unser 3. Gerät dieser Sorte und...</td>\n",
       "      <td>de</td>\n",
       "      <td>It is already our third tool of this type and ...</td>\n",
       "      <td>36</td>\n",
       "      <td>NaN</td>\n",
       "      <td>18</td>\n",
       "      <td>it is already our third tool of this type and ...</td>\n",
       "      <td>it is already our third tool of this type and ...</td>\n",
       "      <td>already third tool type always delighted quali...</td>\n",
       "      <td>already third tool type always delighted quali...</td>\n",
       "    </tr>\n",
       "    <tr>\n",
       "      <th>4</th>\n",
       "      <td>Der gekaufte makita Akkuschrauber überzeugt mi...</td>\n",
       "      <td>de</td>\n",
       "      <td>The purchased makita cordless screwdriver conv...</td>\n",
       "      <td>75</td>\n",
       "      <td>NaN</td>\n",
       "      <td>31</td>\n",
       "      <td>the purchased makita cordless screwdriver conv...</td>\n",
       "      <td>the purchased makita cordless screwdriver conv...</td>\n",
       "      <td>purchased makita cordless screwdriver convince...</td>\n",
       "      <td>purchased makita cordless screwdriver convince...</td>\n",
       "    </tr>\n",
       "  </tbody>\n",
       "</table>\n",
       "</div>"
      ],
      "text/plain": [
       "                                              Review Language  \\\n",
       "0  Ich hab das Set 3 mal bekommen . Das erste war...       de   \n",
       "1  Der Makita-Koffer hält, was er verspricht. Auc...       de   \n",
       "2  Ich hab den Koffer als Geschenk für meinen Man...       de   \n",
       "3  Es ist bereits unser 3. Gerät dieser Sorte und...       de   \n",
       "4  Der gekaufte makita Akkuschrauber überzeugt mi...       de   \n",
       "\n",
       "                                          Translated  Word_Count  Char_Count  \\\n",
       "0  I got the set 3 times. The first was broken af...          74         NaN   \n",
       "1  The Makita case keeps its promise. Even though...          70         NaN   \n",
       "2  I ordered the case as a gift for my husband be...          99         NaN   \n",
       "3  It is already our third tool of this type and ...          36         NaN   \n",
       "4  The purchased makita cordless screwdriver conv...          75         NaN   \n",
       "\n",
       "   Stop-Words                                   Translated_Lower  \\\n",
       "0          28  i got the set 3 times. the first was broken af...   \n",
       "1          28  the makita case keeps its promise. even though...   \n",
       "2          47  i ordered the case as a gift for my husband be...   \n",
       "3          18  it is already our third tool of this type and ...   \n",
       "4          31  the purchased makita cordless screwdriver conv...   \n",
       "\n",
       "                                   Translated_Nopunc  \\\n",
       "0  i got the set 3 times  the first was broken af...   \n",
       "1  the makita case keeps its promise  even though...   \n",
       "2  i ordered the case as a gift for my husband be...   \n",
       "3  it is already our third tool of this type and ...   \n",
       "4  the purchased makita cordless screwdriver conv...   \n",
       "\n",
       "                                   Translated_Nostop  \\\n",
       "0  got set 3 times first broken 5 months second o...   \n",
       "1  makita case keeps promise even though case lon...   \n",
       "2  ordered case gift husband already good experie...   \n",
       "3  already third tool type always delighted quali...   \n",
       "4  purchased makita cordless screwdriver convince...   \n",
       "\n",
       "                                  Translated_Noother  \n",
       "0  got set times first broken months second one d...  \n",
       "1  makita case keeps promise even though case lon...  \n",
       "2  ordered case gift husband already good experie...  \n",
       "3  already third tool type always delighted quali...  \n",
       "4  purchased makita cordless screwdriver convince...  "
      ]
     },
     "execution_count": 81,
     "metadata": {},
     "output_type": "execute_result"
    }
   ],
   "source": [
    "df.head()"
   ]
  },
  {
   "cell_type": "code",
   "execution_count": 82,
   "id": "997a1c9f-dbbe-46b9-b65b-2f437d658cf3",
   "metadata": {},
   "outputs": [],
   "source": [
    "freq_words = pd.Series(\" \".join(df['Translated_Noother']).split()).value_counts().reset_index()"
   ]
  },
  {
   "cell_type": "code",
   "execution_count": 83,
   "id": "d07d686d-6eac-43d1-b4d7-823a47497b1b",
   "metadata": {},
   "outputs": [],
   "source": [
    "freq_words.columns = ['Words', 'Frequencies']"
   ]
  },
  {
   "cell_type": "code",
   "execution_count": 84,
   "id": "8c229467-753e-4d65-8f05-ea2cd418a098",
   "metadata": {},
   "outputs": [
    {
     "data": {
      "image/png": "[encoded data removed]",
      "text/plain": [
       "<Figure size 2000x600 with 1 Axes>"
      ]
     },
     "metadata": {},
     "output_type": "display_data"
    }
   ],
   "source": [
    "plt.figure(figsize=(20,6))\n",
    "plt.title('Common Words', fontsize=20)\n",
    "sns.barplot(x='Words', y='Frequencies', data=freq_words[:80])\n",
    "plt.xticks(rotation=90)\n",
    "plt.xlabel('Word', fontsize=15)\n",
    "plt.ylabel('Frequency', fontsize=15)\n",
    "plt.show()"
   ]
  },
  {
   "cell_type": "code",
   "execution_count": 119,
   "id": "ade5942d-22a4-4694-b59f-a15534ae0518",
   "metadata": {
    "collapsed": true,
    "jupyter": {
     "outputs_hidden": true
    },
    "tags": []
   },
   "outputs": [
    {
     "name": "stdout",
     "output_type": "stream",
     "text": [
      "Collecting wordcloud\n",
      "  Downloading wordcloud-1.8.2.2-cp310-cp310-win_amd64.whl (153 kB)\n",
      "     ---------------------------------------- 0.0/153.1 kB ? eta -:--:--\n",
      "     -------------------------------------- 153.1/153.1 kB 8.9 MB/s eta 0:00:00\n",
      "Requirement already satisfied: numpy>=1.6.1 in c:\\users\\leonr\\desktop\\git\\coursesfromnick\\sentiment_analysis\\sentiment_analysis\\lib\\site-packages (from wordcloud) (1.24.1)\n",
      "Requirement already satisfied: matplotlib in c:\\users\\leonr\\desktop\\git\\coursesfromnick\\sentiment_analysis\\sentiment_analysis\\lib\\site-packages (from wordcloud) (3.6.3)\n",
      "Requirement already satisfied: pillow in c:\\users\\leonr\\desktop\\git\\coursesfromnick\\sentiment_analysis\\sentiment_analysis\\lib\\site-packages (from wordcloud) (9.4.0)\n",
      "Requirement already satisfied: cycler>=0.10 in c:\\users\\leonr\\desktop\\git\\coursesfromnick\\sentiment_analysis\\sentiment_analysis\\lib\\site-packages (from matplotlib->wordcloud) (0.11.0)\n",
      "Requirement already satisfied: python-dateutil>=2.7 in c:\\users\\leonr\\desktop\\git\\coursesfromnick\\sentiment_analysis\\sentiment_analysis\\lib\\site-packages (from matplotlib->wordcloud) (2.8.2)\n",
      "Requirement already satisfied: fonttools>=4.22.0 in c:\\users\\leonr\\desktop\\git\\coursesfromnick\\sentiment_analysis\\sentiment_analysis\\lib\\site-packages (from matplotlib->wordcloud) (4.38.0)\n",
      "Requirement already satisfied: packaging>=20.0 in c:\\users\\leonr\\desktop\\git\\coursesfromnick\\sentiment_analysis\\sentiment_analysis\\lib\\site-packages (from matplotlib->wordcloud) (23.0)\n",
      "Requirement already satisfied: kiwisolver>=1.0.1 in c:\\users\\leonr\\desktop\\git\\coursesfromnick\\sentiment_analysis\\sentiment_analysis\\lib\\site-packages (from matplotlib->wordcloud) (1.4.4)\n",
      "Requirement already satisfied: contourpy>=1.0.1 in c:\\users\\leonr\\desktop\\git\\coursesfromnick\\sentiment_analysis\\sentiment_analysis\\lib\\site-packages (from matplotlib->wordcloud) (1.0.7)\n",
      "Requirement already satisfied: pyparsing>=2.2.1 in c:\\users\\leonr\\desktop\\git\\coursesfromnick\\sentiment_analysis\\sentiment_analysis\\lib\\site-packages (from matplotlib->wordcloud) (3.0.9)\n",
      "Requirement already satisfied: six>=1.5 in c:\\users\\leonr\\desktop\\git\\coursesfromnick\\sentiment_analysis\\sentiment_analysis\\lib\\site-packages (from python-dateutil>=2.7->matplotlib->wordcloud) (1.16.0)\n",
      "Installing collected packages: wordcloud\n",
      "Successfully installed wordcloud-1.8.2.2\n"
     ]
    }
   ],
   "source": [
    "!pip install wordcloud"
   ]
  },
  {
   "cell_type": "code",
   "execution_count": 120,
   "id": "eb4a8067-d2e4-4bba-b004-a9b6a023d65e",
   "metadata": {},
   "outputs": [],
   "source": [
    "from wordcloud import WordCloud"
   ]
  },
  {
   "cell_type": "code",
   "execution_count": 130,
   "id": "01942dac-b857-46e3-9f63-1fc62210fa8b",
   "metadata": {},
   "outputs": [],
   "source": [
    "text = ''\n",
    "for row in df.iterrows():\n",
    "    review = row[1][2]\n",
    "    for word in str(review).split():\n",
    "        text = text + \" \" + word"
   ]
  },
  {
   "cell_type": "code",
   "execution_count": 134,
   "id": "52b23518-f42f-4d45-9e06-94ca3da13cbc",
   "metadata": {},
   "outputs": [
    {
     "data": {
      "image/png": "[encoded data removed]",
      "text/plain": [
       "<Figure size 640x480 with 1 Axes>"
      ]
     },
     "metadata": {},
     "output_type": "display_data"
    }
   ],
   "source": [
    "# take relative word frequencies into account, lower max_font_size\n",
    "wordcloud = WordCloud(background_color=\"white\",max_words=80,max_font_size=40, relative_scaling=.5).generate(text)\n",
    "plt.figure()\n",
    "plt.imshow(wordcloud)\n",
    "plt.axis(\"off\")\n",
    "plt.show()"
   ]
  },
  {
   "cell_type": "markdown",
   "id": "38174d5b-5922-47d5-be6a-cd9b064327d6",
   "metadata": {
    "jp-MarkdownHeadingCollapsed": true,
    "tags": []
   },
   "source": [
    "## 4.5 Lemmatize Reviews"
   ]
  },
  {
   "cell_type": "code",
   "execution_count": 85,
   "id": "038b6fd6-d24c-49ae-b4c7-7970b4f8d169",
   "metadata": {},
   "outputs": [
    {
     "name": "stderr",
     "output_type": "stream",
     "text": [
      "[nltk_data] Downloading package wordnet to\n",
      "[nltk_data]     C:\\Users\\leonr\\AppData\\Roaming\\nltk_data...\n",
      "[nltk_data]   Package wordnet is already up-to-date!\n",
      "[nltk_data] Downloading package omw-1.4 to\n",
      "[nltk_data]     C:\\Users\\leonr\\AppData\\Roaming\\nltk_data...\n",
      "[nltk_data]   Package omw-1.4 is already up-to-date!\n"
     ]
    },
    {
     "data": {
      "text/plain": [
       "True"
      ]
     },
     "execution_count": 85,
     "metadata": {},
     "output_type": "execute_result"
    }
   ],
   "source": [
    "from textblob import Word\n",
    "nltk.download('wordnet')\n",
    "nltk.download('omw-1.4')"
   ]
  },
  {
   "cell_type": "code",
   "execution_count": 90,
   "id": "281c6abe-b7d7-40c9-bad0-04df4deece7c",
   "metadata": {},
   "outputs": [],
   "source": [
    "df['Cleaned_Review'] = df['Translated_Noother'].apply(\n",
    "    lambda x: \" \".join(Word(word).lemmatize() for word in x.split()))"
   ]
  },
  {
   "cell_type": "code",
   "execution_count": 92,
   "id": "9b1d275f-6e6e-4833-ba5b-2d94f076b219",
   "metadata": {},
   "outputs": [
    {
     "name": "stdout",
     "output_type": "stream",
     "text": [
      "makita case keeps promise even though case longer described handy still compact robust everything place previously simple rock solid 14 4v branded tool home use difference 18v makita high torque noticeable build quality scope delivery good way delivery complete intact\n",
      "~~~~~~~~~~~~~~~~~~~~~~~~~~~~~~~~~~~~~~~~~~~~~~~~~~~~~~~~\n",
      "makita case keep promise even though case longer described handy still compact robust everything place previously simple rock solid 14 4v branded tool home use difference 18v makita high torque noticeable build quality scope delivery good way delivery complete intact\n"
     ]
    }
   ],
   "source": [
    "print(df.iloc[1]['Translated_Noother'])\n",
    "print('~~~~~~~~~~~~~~~~~~~~~~~~~~~~~~~~~~~~~~~~~~~~~~~~~~~~~~~~')\n",
    "print(df.iloc[1]['Cleaned_Review'])"
   ]
  },
  {
   "cell_type": "markdown",
   "id": "042c42d8-56a3-43d4-92d6-7c31925f91b1",
   "metadata": {
    "jp-MarkdownHeadingCollapsed": true,
    "tags": []
   },
   "source": [
    "# 5. Sentiment Analysis"
   ]
  },
  {
   "cell_type": "code",
   "execution_count": 93,
   "id": "2a19acfa-7caf-4aa4-b65f-271e032d9e85",
   "metadata": {},
   "outputs": [],
   "source": [
    "from textblob import TextBlob"
   ]
  },
  {
   "cell_type": "code",
   "execution_count": 94,
   "id": "2866c4c0-dc89-4e38-87dd-b42933202d37",
   "metadata": {},
   "outputs": [],
   "source": [
    "df['Polarity'] = df['Cleaned_Review'].apply(lambda x: TextBlob(x).sentiment[0])\n",
    "df['Subjectivity'] = df['Cleaned_Review'].apply(lambda x: TextBlob(x).sentiment[1])"
   ]
  },
  {
   "cell_type": "code",
   "execution_count": 95,
   "id": "0e81be69-748b-49bf-be34-16c41f9f07ce",
   "metadata": {},
   "outputs": [],
   "source": [
    "filtered_df = df[['Translated', 'Polarity', 'Subjectivity']]"
   ]
  },
  {
   "cell_type": "code",
   "execution_count": 96,
   "id": "e67d907d-a2cd-4420-9b78-26c20e647242",
   "metadata": {},
   "outputs": [
    {
     "data": {
      "text/html": [
       "<div>\n",
       "<style scoped>\n",
       "    .dataframe tbody tr th:only-of-type {\n",
       "        vertical-align: middle;\n",
       "    }\n",
       "\n",
       "    .dataframe tbody tr th {\n",
       "        vertical-align: top;\n",
       "    }\n",
       "\n",
       "    .dataframe thead th {\n",
       "        text-align: right;\n",
       "    }\n",
       "</style>\n",
       "<table border=\"1\" class=\"dataframe\">\n",
       "  <thead>\n",
       "    <tr style=\"text-align: right;\">\n",
       "      <th></th>\n",
       "      <th>Translated</th>\n",
       "      <th>Polarity</th>\n",
       "      <th>Subjectivity</th>\n",
       "    </tr>\n",
       "  </thead>\n",
       "  <tbody>\n",
       "    <tr>\n",
       "      <th>0</th>\n",
       "      <td>I got the set 3 times. The first was broken af...</td>\n",
       "      <td>-0.050000</td>\n",
       "      <td>0.276667</td>\n",
       "    </tr>\n",
       "    <tr>\n",
       "      <th>1</th>\n",
       "      <td>The Makita case keeps its promise. Even though...</td>\n",
       "      <td>0.260000</td>\n",
       "      <td>0.482857</td>\n",
       "    </tr>\n",
       "    <tr>\n",
       "      <th>2</th>\n",
       "      <td>I ordered the case as a gift for my husband be...</td>\n",
       "      <td>0.429630</td>\n",
       "      <td>0.737037</td>\n",
       "    </tr>\n",
       "    <tr>\n",
       "      <th>3</th>\n",
       "      <td>It is already our third tool of this type and ...</td>\n",
       "      <td>0.350000</td>\n",
       "      <td>0.350000</td>\n",
       "    </tr>\n",
       "    <tr>\n",
       "      <th>4</th>\n",
       "      <td>The purchased makita cordless screwdriver conv...</td>\n",
       "      <td>0.502381</td>\n",
       "      <td>0.734524</td>\n",
       "    </tr>\n",
       "  </tbody>\n",
       "</table>\n",
       "</div>"
      ],
      "text/plain": [
       "                                          Translated  Polarity  Subjectivity\n",
       "0  I got the set 3 times. The first was broken af... -0.050000      0.276667\n",
       "1  The Makita case keeps its promise. Even though...  0.260000      0.482857\n",
       "2  I ordered the case as a gift for my husband be...  0.429630      0.737037\n",
       "3  It is already our third tool of this type and ...  0.350000      0.350000\n",
       "4  The purchased makita cordless screwdriver conv...  0.502381      0.734524"
      ]
     },
     "execution_count": 96,
     "metadata": {},
     "output_type": "execute_result"
    }
   ],
   "source": [
    "filtered_df.head()"
   ]
  },
  {
   "cell_type": "code",
   "execution_count": 97,
   "id": "62426802-6490-41a6-b4de-dc3d8db9e300",
   "metadata": {},
   "outputs": [
    {
     "data": {
      "text/plain": [
       "1.0"
      ]
     },
     "execution_count": 97,
     "metadata": {},
     "output_type": "execute_result"
    }
   ],
   "source": [
    "filtered_df['Polarity'].max()"
   ]
  },
  {
   "cell_type": "code",
   "execution_count": 101,
   "id": "6791c659-f4b5-458a-a20e-d0a7f853ef94",
   "metadata": {},
   "outputs": [
    {
     "name": "stdout",
     "output_type": "stream",
     "text": [
      "Perfect size\n"
     ]
    }
   ],
   "source": [
    "print(filtered_df[filtered_df['Polarity']==1].iloc[19]['Translated'])"
   ]
  },
  {
   "cell_type": "code",
   "execution_count": 102,
   "id": "c4a1918b-c955-40a7-a4ab-adc5405af009",
   "metadata": {},
   "outputs": [
    {
     "data": {
      "text/plain": [
       "-0.8"
      ]
     },
     "execution_count": 102,
     "metadata": {},
     "output_type": "execute_result"
    }
   ],
   "source": [
    "filtered_df['Polarity'].min()"
   ]
  },
  {
   "cell_type": "code",
   "execution_count": 116,
   "id": "db478ec2-4acc-49f3-baaf-56c062dbf0fb",
   "metadata": {},
   "outputs": [
    {
     "name": "stdout",
     "output_type": "stream",
     "text": [
      "I have to admit that I am shocked.Some renovation work on the house and the gearbox on both Makitas is worn out and misaligned.No more concentricity and they smell as if they are about to burn.This has not happened to me with other manufacturers after 10 years.\n"
     ]
    }
   ],
   "source": [
    "print(filtered_df[filtered_df['Polarity']<=-0.7].iloc[0]['Translated'])"
   ]
  },
  {
   "cell_type": "code",
   "execution_count": 117,
   "id": "5e24e5d3-93a6-482a-b105-521c04ad78e2",
   "metadata": {},
   "outputs": [],
   "source": [
    "df.to_csv('Data/Amazon-Sentiment.csv')"
   ]
  },
  {
   "cell_type": "code",
   "execution_count": 118,
   "id": "6d6443c0-b8d8-4c76-9e13-a465bb4fc892",
   "metadata": {},
   "outputs": [
    {
     "data": {
      "text/plain": [
       "0.3254583864836841"
      ]
     },
     "execution_count": 118,
     "metadata": {},
     "output_type": "execute_result"
    }
   ],
   "source": [
    "filtered_df['Polarity'].mean()"
   ]
  }
 ],
 "metadata": {
  "kernelspec": {
   "display_name": "sentiment_analysis",
   "language": "python",
   "name": "sentiment_analysis"
  },
  "language_info": {
   "codemirror_mode": {
    "name": "ipython",
    "version": 3
   },
   "file_extension": ".py",
   "mimetype": "text/x-python",
   "name": "python",
   "nbconvert_exporter": "python",
   "pygments_lexer": "ipython3",
   "version": "3.10.0"
  }
 },
 "nbformat": 4,
 "nbformat_minor": 5
}
